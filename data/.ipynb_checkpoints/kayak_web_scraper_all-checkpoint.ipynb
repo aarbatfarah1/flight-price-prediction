{
 "cells": [
  {
   "cell_type": "code",
   "execution_count": 63,
   "id": "8c3e3970",
   "metadata": {},
   "outputs": [],
   "source": [
    "import requests as rq\n",
    "import pandas as pd \n",
    "from bs4 import BeautifulSoup\n",
    "from selenium import webdriver\n",
    "from selenium.webdriver.common.keys import Keys\n",
    "from selenium.webdriver.common.by import By\n",
    "from time import sleep"
   ]
  },
  {
   "cell_type": "code",
   "execution_count": null,
   "id": "d19af4ed",
   "metadata": {},
   "outputs": [],
   "source": []
  },
  {
   "cell_type": "code",
   "execution_count": 64,
   "id": "45501e74",
   "metadata": {},
   "outputs": [],
   "source": [
    "sources=['CMN','CMN','CMN']\n",
    "destinations=['PAR','ROM','IST']\n",
    "classes=['economy','business']"
   ]
  },
  {
   "cell_type": "markdown",
   "id": "a631ce6a",
   "metadata": {},
   "source": [
    "# Features"
   ]
  },
  {
   "cell_type": "code",
   "execution_count": 65,
   "id": "2085b893",
   "metadata": {},
   "outputs": [],
   "source": [
    "def get_airline(soup):\n",
    "    #get airlines\n",
    "    airlines=[]\n",
    "    items=soup.find_all('div',class_='J0g6-operator-text') \n",
    "    for item in items :\n",
    "        airl=item.text\n",
    "        airl = airl.split(',')[0].strip()\n",
    "        airlines.append(airl)\n",
    "    print(airlines)\n",
    "    return airlines"
   ]
  },
  {
   "cell_type": "code",
   "execution_count": 66,
   "id": "d73dea44",
   "metadata": {},
   "outputs": [],
   "source": [
    "def get_duration(soup):\n",
    "    #getduration\n",
    "    durations=[]\n",
    "    duration_div=soup.find_all('div',class_='xdW8 xdW8-mod-full-airport')\n",
    "    for d in duration_div :\n",
    "        duration=d.find('div',class_='vmXl vmXl-mod-variant-default').text\n",
    "        durations.append(duration)\n",
    "    return durations"
   ]
  },
  {
   "cell_type": "code",
   "execution_count": 67,
   "id": "381878ee",
   "metadata": {},
   "outputs": [],
   "source": [
    "def get_stops(soup):\n",
    "    stops=[]\n",
    "    stop_div=soup.find_all('div',class_='vmXl vmXl-mod-variant-default')\n",
    "    for s in stop_div :\n",
    "        selected_element = s.select_one('.JWEO-stops-text, .JWEO-mod-warning')\n",
    "        if selected_element:\n",
    "          stops.append(selected_element.text)\n",
    "\n",
    "    return stops"
   ]
  },
  {
   "cell_type": "code",
   "execution_count": 68,
   "id": "abebf4e1",
   "metadata": {},
   "outputs": [],
   "source": [
    "def get_price(soup):   \n",
    "    #getprice\n",
    "    prices=[]\n",
    "    price_div=soup.find_all('div',class_='f8F1-price-text-container')\n",
    "\n",
    "    for p in price_div :\n",
    "        price=p.find('div',class_='f8F1-price-text').text\n",
    "        price= price.replace('\\xa0', ' ')\n",
    "        prices.append(price)\n",
    "    return prices"
   ]
  },
  {
   "cell_type": "code",
   "execution_count": 69,
   "id": "97786ff1",
   "metadata": {},
   "outputs": [],
   "source": [
    "def get_class(soup):\n",
    "    #getclass\n",
    "    classes=[]\n",
    "    class_div=soup.find_all('div',class_='aC3z-option')\n",
    "    for c in class_div :\n",
    "        classe=c.find('div',class_='aC3z-name').text\n",
    "        classes.append(classe)\n",
    "    return classes"
   ]
  },
  {
   "cell_type": "code",
   "execution_count": 70,
   "id": "91839ad6",
   "metadata": {},
   "outputs": [],
   "source": [
    "#get_depature_time\n",
    "def get_dep_time(soup):\n",
    "    deps=[]\n",
    "    dep_div=soup.find_all('div',class_='vmXl vmXl-mod-variant-large')\n",
    "    for d in dep_div:\n",
    "        depature=d.find_all('span')\n",
    "        deps.append(depature[0].text)\n",
    "    return deps\n",
    "#get_arrival_time\n",
    "def get_arr_time(soup):\n",
    "    arrs=[]\n",
    "    arr_div=soup.find_all('div',class_='vmXl vmXl-mod-variant-large')\n",
    "    for a in arr_div:\n",
    "        arrival=a.find_all('span')\n",
    "        arrs.append(arrival[2].text)\n",
    "    return arrs\n"
   ]
  },
  {
   "cell_type": "markdown",
   "id": "3b25e40a",
   "metadata": {},
   "source": [
    "# Scraping economy class"
   ]
  },
  {
   "cell_type": "code",
   "execution_count": 71,
   "id": "acbb1a7c",
   "metadata": {},
   "outputs": [
    {
     "name": "stdout",
     "output_type": "stream",
     "text": [
      "https://www.kayak.ae/flights/CMN-PAR/2023-12-04/economy?sort=bestflight_a\n",
      "CMN\n",
      "PAR\n",
      "[]\n",
      "0\n",
      "0\n",
      "0\n",
      "0\n",
      "0\n",
      "0\n",
      "Succesfully saved CMN => PAR route  \n",
      "https://www.kayak.ae/flights/CMN-ROM/2023-12-04/economy?sort=bestflight_a\n",
      "CMN\n",
      "ROM\n",
      "['TAP Portugal', 'Multiple Airlines', 'Royal Air Maroc', 'Air Arabia Maroc', 'Pegasus Airlines', 'Iberia', 'Iberia', 'Air France', 'Air Arabia Maroc', 'Multiple Airlines', 'Air Arabia Maroc', 'TAP Portugal', 'Tunisair', 'TAP Portugal', 'Air Arabia Maroc', 'Royal Air Maroc']\n",
      "16\n",
      "16\n",
      "16\n",
      "16\n",
      "16\n",
      "16\n",
      "Succesfully saved CMN => ROM route  \n",
      "https://www.kayak.ae/flights/CMN-IST/2023-12-04/economy?sort=bestflight_a\n",
      "CMN\n",
      "IST\n",
      "['Air Arabia Maroc', 'Multiple Airlines', 'Air Arabia Maroc', 'Pegasus Airlines', 'Royal Air Maroc', 'Turkish Airlines', 'Royal Air Maroc', 'Turkish Airlines', 'Egypt Air', 'Air Arabia Maroc', 'Egypt Air', 'Royal Air Maroc', 'Royal Air Maroc', 'Multiple Airlines', 'Multiple Airlines', 'Transavia France']\n",
      "16\n",
      "16\n",
      "16\n",
      "16\n",
      "16\n",
      "16\n",
      "Succesfully saved CMN => IST route  \n",
      "https://www.kayak.ae/flights/CMN-PAR/2023-12-04/business?sort=bestflight_a\n",
      "CMN\n",
      "PAR\n",
      "['Royal Air Maroc', 'TAP Portugal', 'Royal Air Maroc', 'Royal Air Maroc', 'Royal Air Maroc', 'Royal Air Maroc', 'Iberia', 'Air France', 'Air France', 'Air France', 'Air France', 'TAP Portugal', 'TAP Portugal', 'Iberia', 'Iberia']\n",
      "15\n",
      "15\n",
      "15\n",
      "15\n",
      "15\n",
      "15\n",
      "Succesfully saved CMN => PAR route  \n",
      "https://www.kayak.ae/flights/CMN-ROM/2023-12-04/business?sort=bestflight_a\n",
      "CMN\n",
      "ROM\n",
      "['TAP Portugal', 'Iberia', 'Iberia', 'TAP Portugal', 'Iberia', 'Iberia', 'TAP Portugal', 'Tunisair', 'Iberia', 'Air France', 'Iberia', 'Air France', 'Egypt Air', 'TAP Portugal', 'Iberia']\n",
      "15\n",
      "15\n",
      "15\n",
      "15\n",
      "15\n",
      "15\n",
      "Succesfully saved CMN => ROM route  \n",
      "https://www.kayak.ae/flights/CMN-IST/2023-12-04/business?sort=bestflight_a\n",
      "CMN\n",
      "IST\n",
      "['Royal Air Maroc', 'TAP Portugal', 'Turkish Airlines', 'Royal Air Maroc', 'Turkish Airlines', 'Egypt Air', 'Egypt Air', 'Air Arabia Maroc', 'Egypt Air', 'Egypt Air', 'Lufthansa', 'Egypt Air', 'Egypt Air', 'Iberia', 'Egypt Air', 'Egypt Air']\n",
      "16\n",
      "16\n",
      "16\n",
      "16\n",
      "16\n",
      "16\n",
      "Succesfully saved CMN => IST route  \n"
     ]
    }
   ],
   "source": [
    "df=pd.DataFrame(columns=[\"Airline\", \"Source\", \"Destination\",\"Duration\",\"stops\",\"class\",\"depature time\",\"arrival time\", \"Price\",\"Date\"])\n",
    "\n",
    "for j in range(len(classes)):    \n",
    "    for i in range(len(sources)): \n",
    "        driver = webdriver.Edge()\n",
    "        date='2023-12-04'\n",
    "        kayak=f\"https://www.kayak.ae/flights/{sources[i]}-{destinations[i]}/{date}/{classes[j]}?sort=bestflight_a\"\n",
    "        print(sources[i])\n",
    "        print(destinations[i])\n",
    "        driver.get(kayak)\n",
    "\n",
    "\n",
    "        soup = BeautifulSoup(driver.page_source, 'html.parser')\n",
    "        airlines = get_airline(soup)\n",
    "        print(len(airlines))\n",
    "        stops = get_stops(soup)\n",
    "        print(len(stops))\n",
    "        dep_time=get_dep_time(soup)\n",
    "        print(len(dep_time))\n",
    "        arr_time =get_arr_time(soup)\n",
    "        print(len(arr_time))\n",
    "        prices = get_price(soup)\n",
    "        print(len(prices))\n",
    "        duration = get_duration(soup)\n",
    "        print(len(duration))\n",
    "        df = pd.concat([df,pd.DataFrame({\n",
    "                        'Airline': airlines,\n",
    "                        'Duration': duration,\n",
    "                        'stops' : stops,\n",
    "                        'class' : classes[j],\n",
    "                        'Source':sources[i],\n",
    "                        'Destination': destinations[i],\n",
    "                        'depature time' : dep_time ,\n",
    "                        'arrival time' : arr_time,\n",
    "                        'Price' : prices,\n",
    "                        'Date' : date})])\n",
    "\n",
    "        \n",
    "        df = df.replace('\\n','', regex=True)\n",
    "        #df = df.reset_index(drop = True)\n",
    "        # save data as csv file for each route\n",
    "    \n",
    "        print(f\"Succesfully saved {sources[i]} => {destinations[i]} route  \")\n",
    "        driver.quit()\n",
    "df.to_csv('airlines_dataset.csv',index=False)"
   ]
  },
  {
   "cell_type": "code",
   "execution_count": null,
   "id": "b7459f6c",
   "metadata": {},
   "outputs": [],
   "source": []
  }
 ],
 "metadata": {
  "kernelspec": {
   "display_name": "Python 3 (ipykernel)",
   "language": "python",
   "name": "python3"
  },
  "language_info": {
   "codemirror_mode": {
    "name": "ipython",
    "version": 3
   },
   "file_extension": ".py",
   "mimetype": "text/x-python",
   "name": "python",
   "nbconvert_exporter": "python",
   "pygments_lexer": "ipython3",
   "version": "3.11.3"
  }
 },
 "nbformat": 4,
 "nbformat_minor": 5
}
