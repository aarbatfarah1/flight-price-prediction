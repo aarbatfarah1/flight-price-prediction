{
 "cells": [
  {
   "cell_type": "code",
   "execution_count": 1,
   "id": "8c3e3970",
   "metadata": {},
   "outputs": [],
   "source": [
    "import requests as rq\n",
    "import pandas as pd \n",
    "from bs4 import BeautifulSoup\n",
    "from selenium import webdriver\n",
    "from selenium.webdriver.common.keys import Keys\n",
    "from selenium.webdriver.common.by import By\n",
    "from time import sleep"
   ]
  },
  {
   "cell_type": "code",
   "execution_count": 2,
   "id": "d19af4ed",
   "metadata": {},
   "outputs": [],
   "source": [
    "driver = webdriver.Edge()"
   ]
  },
  {
   "cell_type": "code",
   "execution_count": 3,
   "id": "45501e74",
   "metadata": {},
   "outputs": [],
   "source": [
    "sources=['CMN','CMN','CMN']\n",
    "destinations=['PAR','ROM','IST']"
   ]
  },
  {
   "cell_type": "markdown",
   "id": "a631ce6a",
   "metadata": {},
   "source": [
    "# Features"
   ]
  },
  {
   "cell_type": "code",
   "execution_count": 4,
   "id": "2085b893",
   "metadata": {},
   "outputs": [],
   "source": [
    "def get_airline(soup):\n",
    "    #get airlines\n",
    "    airlines=[]\n",
    "    items=soup.find_all('div',class_='J0g6-operator-text')\n",
    "    for item in items :\n",
    "        airl=item.text\n",
    "        airl = airl.split(',')[0].strip()\n",
    "        airlines.append(airl)\n",
    "    \n",
    "    return airlines"
   ]
  },
  {
   "cell_type": "code",
   "execution_count": 5,
   "id": "d73dea44",
   "metadata": {},
   "outputs": [],
   "source": [
    "def get_duration(soup):\n",
    "    #getduration\n",
    "    durations=[]\n",
    "    duration_div=soup.find_all('div',class_='xdW8 xdW8-mod-full-airport')\n",
    "    for d in duration_div :\n",
    "        duration=d.find('div',class_='vmXl vmXl-mod-variant-default').text\n",
    "        durations.append(duration)\n",
    "    return durations"
   ]
  },
  {
   "cell_type": "code",
   "execution_count": 6,
   "id": "381878ee",
   "metadata": {},
   "outputs": [],
   "source": [
    "def get_stops(soup):\n",
    "    stops=[]\n",
    "    stop_div=soup.find_all('div',class_='vmXl vmXl-mod-variant-default')\n",
    "    for s in stop_div :\n",
    "        selected_element = s.select_one('.JWEO-stops-text, .JWEO-mod-warning')\n",
    "        if selected_element:\n",
    "          stops.append(selected_element.text)\n",
    "\n",
    "    return stops"
   ]
  },
  {
   "cell_type": "code",
   "execution_count": 7,
   "id": "abebf4e1",
   "metadata": {},
   "outputs": [],
   "source": [
    "def get_price(soup):   \n",
    "    #getprice\n",
    "    prices=[]\n",
    "    price_div=soup.find_all('div',class_='f8F1-price-text-container')\n",
    "\n",
    "    for p in price_div :\n",
    "        price=p.find('div',class_='f8F1-price-text').text\n",
    "        price= price.replace('\\xa0', ' ')\n",
    "        prices.append(price)\n",
    "    return prices"
   ]
  },
  {
   "cell_type": "code",
   "execution_count": 8,
   "id": "97786ff1",
   "metadata": {},
   "outputs": [],
   "source": [
    "def get_class(soup):\n",
    "    #getclass\n",
    "    classes=[]\n",
    "    class_div=soup.find_all('div',class_='aC3z-option')\n",
    "    for c in class_div :\n",
    "        classe=c.find('div',class_='aC3z-name').text\n",
    "        classes.append(classe)\n",
    "    return classes"
   ]
  },
  {
   "cell_type": "code",
   "execution_count": 9,
   "id": "91839ad6",
   "metadata": {},
   "outputs": [],
   "source": [
    "#get_depature_time\n",
    "def get_dep_time(soup):\n",
    "    deps=[]\n",
    "    dep_div=soup.find_all('div',class_='vmXl vmXl-mod-variant-large')\n",
    "    for d in dep_div:\n",
    "        depature=d.find_all('span')\n",
    "        deps.append(depature[0].text)\n",
    "    return deps\n",
    "#get_arrival_time\n",
    "def get_arr_time(soup):\n",
    "    arrs=[]\n",
    "    arr_div=soup.find_all('div',class_='vmXl vmXl-mod-variant-large')\n",
    "    for a in arr_div:\n",
    "        arrival=a.find_all('span')\n",
    "        arrs.append(arrival[2].text)\n",
    "    return arrs\n"
   ]
  },
  {
   "cell_type": "markdown",
   "id": "3b25e40a",
   "metadata": {},
   "source": [
    "# Scraping economy class"
   ]
  },
  {
   "cell_type": "code",
   "execution_count": null,
   "id": "acbb1a7c",
   "metadata": {},
   "outputs": [
    {
     "name": "stdout",
     "output_type": "stream",
     "text": [
      "Please solve the captcha then enter anything here to resume scraping.h\n",
      "16\n",
      "16\n",
      "16\n",
      "16\n",
      "16\n",
      "16\n",
      "16\n"
     ]
    },
    {
     "name": "stderr",
     "output_type": "stream",
     "text": [
      "C:\\Users\\Chaimaa\\AppData\\Local\\Temp\\ipykernel_576\\2459781617.py:46: FutureWarning: The frame.append method is deprecated and will be removed from pandas in a future version. Use pandas.concat instead.\n",
      "  df = df.append(pd.DataFrame({\n"
     ]
    },
    {
     "name": "stdout",
     "output_type": "stream",
     "text": [
      "Please solve the captcha then enter anything here to resume scraping.h\n",
      "16\n",
      "16\n",
      "16\n",
      "16\n",
      "16\n",
      "16\n",
      "16\n"
     ]
    },
    {
     "name": "stderr",
     "output_type": "stream",
     "text": [
      "C:\\Users\\Chaimaa\\AppData\\Local\\Temp\\ipykernel_576\\2459781617.py:46: FutureWarning: The frame.append method is deprecated and will be removed from pandas in a future version. Use pandas.concat instead.\n",
      "  df = df.append(pd.DataFrame({\n"
     ]
    },
    {
     "name": "stdout",
     "output_type": "stream",
     "text": [
      "Please solve the captcha then enter anything here to resume scraping.h\n",
      "16\n",
      "16\n",
      "16\n",
      "16\n",
      "16\n",
      "16\n",
      "16\n"
     ]
    },
    {
     "name": "stderr",
     "output_type": "stream",
     "text": [
      "C:\\Users\\Chaimaa\\AppData\\Local\\Temp\\ipykernel_576\\2459781617.py:46: FutureWarning: The frame.append method is deprecated and will be removed from pandas in a future version. Use pandas.concat instead.\n",
      "  df = df.append(pd.DataFrame({\n"
     ]
    },
    {
     "name": "stdout",
     "output_type": "stream",
     "text": [
      "Please solve the captcha then enter anything here to resume scraping.hghg\n",
      "16\n",
      "16\n",
      "16\n",
      "16\n",
      "16\n",
      "16\n",
      "16\n"
     ]
    },
    {
     "name": "stderr",
     "output_type": "stream",
     "text": [
      "C:\\Users\\Chaimaa\\AppData\\Local\\Temp\\ipykernel_576\\2459781617.py:46: FutureWarning: The frame.append method is deprecated and will be removed from pandas in a future version. Use pandas.concat instead.\n",
      "  df = df.append(pd.DataFrame({\n"
     ]
    },
    {
     "name": "stdout",
     "output_type": "stream",
     "text": [
      "Please solve the captcha then enter anything here to resume scraping.hgjgfygiu\n",
      "16\n",
      "16\n",
      "16\n",
      "16\n",
      "16\n",
      "16\n",
      "16\n"
     ]
    },
    {
     "name": "stderr",
     "output_type": "stream",
     "text": [
      "C:\\Users\\Chaimaa\\AppData\\Local\\Temp\\ipykernel_576\\2459781617.py:46: FutureWarning: The frame.append method is deprecated and will be removed from pandas in a future version. Use pandas.concat instead.\n",
      "  df = df.append(pd.DataFrame({\n"
     ]
    },
    {
     "name": "stdout",
     "output_type": "stream",
     "text": [
      "Please solve the captcha then enter anything here to resume scraping.f\n",
      "16\n",
      "16\n",
      "16\n",
      "16\n",
      "16\n",
      "16\n",
      "16\n"
     ]
    },
    {
     "name": "stderr",
     "output_type": "stream",
     "text": [
      "C:\\Users\\Chaimaa\\AppData\\Local\\Temp\\ipykernel_576\\2459781617.py:46: FutureWarning: The frame.append method is deprecated and will be removed from pandas in a future version. Use pandas.concat instead.\n",
      "  df = df.append(pd.DataFrame({\n"
     ]
    },
    {
     "name": "stdout",
     "output_type": "stream",
     "text": [
      "Please solve the captcha then enter anything here to resume scraping.s\n",
      "16\n",
      "16\n",
      "16\n",
      "16\n",
      "16\n",
      "16\n",
      "16\n"
     ]
    },
    {
     "name": "stderr",
     "output_type": "stream",
     "text": [
      "C:\\Users\\Chaimaa\\AppData\\Local\\Temp\\ipykernel_576\\2459781617.py:46: FutureWarning: The frame.append method is deprecated and will be removed from pandas in a future version. Use pandas.concat instead.\n",
      "  df = df.append(pd.DataFrame({\n"
     ]
    },
    {
     "name": "stdout",
     "output_type": "stream",
     "text": [
      "Please solve the captcha then enter anything here to resume scraping.\n",
      "16\n",
      "16\n",
      "16\n",
      "16\n",
      "16\n",
      "16\n",
      "16\n"
     ]
    },
    {
     "name": "stderr",
     "output_type": "stream",
     "text": [
      "C:\\Users\\Chaimaa\\AppData\\Local\\Temp\\ipykernel_576\\2459781617.py:46: FutureWarning: The frame.append method is deprecated and will be removed from pandas in a future version. Use pandas.concat instead.\n",
      "  df = df.append(pd.DataFrame({\n"
     ]
    },
    {
     "name": "stdout",
     "output_type": "stream",
     "text": [
      "Please solve the captcha then enter anything here to resume scraping.s\n",
      "16\n",
      "16\n",
      "16\n",
      "16\n",
      "16\n",
      "16\n",
      "16\n"
     ]
    },
    {
     "name": "stderr",
     "output_type": "stream",
     "text": [
      "C:\\Users\\Chaimaa\\AppData\\Local\\Temp\\ipykernel_576\\2459781617.py:46: FutureWarning: The frame.append method is deprecated and will be removed from pandas in a future version. Use pandas.concat instead.\n",
      "  df = df.append(pd.DataFrame({\n"
     ]
    }
   ],
   "source": [
    "df=pd.DataFrame(columns=[\"Airline\", \"Source\", \"Destination\",\"Duration\",\"stops\",\"class\",\"depature time\",\"arrival time\", \"Price\",\"Date\"])\n",
    "\n",
    "for j in range(0,10) :\n",
    "    #print(j)\n",
    "    if j==9 :\n",
    "        driver.quit()\n",
    "         \n",
    "    source='CMN'\n",
    "    destination='PAR'\n",
    "    date='2023-12-04'\n",
    "    kayak=f\"https://www.kayak.ae/flights/{source}-{destination}/{date}?sort=bestflight_a\"\n",
    "    driver.get(kayak)\n",
    "    #sleep(15)\n",
    "    # click show more button to get all flights\n",
    "    try:\n",
    "                show_more_button = driver.find_element_by_xpath('//*[@id=\"Lcrb\"]/div/div') \n",
    "    except:\n",
    "\n",
    "                # in case a captcha appears, require input from user so that the for loop pauses and the user can continue the\n",
    "                # loop after solving the captcha\n",
    "                input(\"Please solve the captcha then enter anything here to resume scraping.\")\n",
    "\n",
    "    while True:\n",
    "        try:\n",
    "            show_more_button.click()\n",
    "            driver.implicitly_wait(10)\n",
    "        except:\n",
    "            break\n",
    "    \n",
    "\n",
    "    soup = BeautifulSoup(driver.page_source, 'html.parser')\n",
    "    airlines = get_airline(soup)\n",
    "    print(len(airlines))\n",
    "    stops = get_stops(soup)\n",
    "    print(len(stops))\n",
    "    class_ = get_class(soup)\n",
    "    print(len(class_))\n",
    "    dep_time=get_dep_time(soup)\n",
    "    print(len(dep_time))\n",
    "    arr_time =get_arr_time(soup)\n",
    "    print(len(arr_time))\n",
    "    prices = get_price(soup)\n",
    "    print(len(prices))\n",
    "    duration = get_duration(soup)\n",
    "    print(len(duration))\n",
    "    df = df.append(pd.DataFrame({\n",
    "                'Airline': airlines,\n",
    "                'Duration': duration,\n",
    "                'stops' : stops,\n",
    "                'class' : class_,\n",
    "                'depature time' : dep_time ,\n",
    "                'arrival time' : arr_time,\n",
    "                'Price' : prices,\n",
    "                'Date' : date}))\n",
    "\n",
    "df['Source'] = source\n",
    "df['Destination'] = destination\n",
    "df = df.replace('\\n','', regex=True)\n",
    "df = df.reset_index(drop = True)\n",
    "# save data as csv file for each route\n",
    "df.to_csv(f'{airlines_economy_dataset}.csv',index=False)\n",
    "print(f\"Succesfully saved {source} => {destination} route as {source}_{destination}.csv \")\n",
    "    \n",
    "driver.quit()"
   ]
  },
  {
   "cell_type": "code",
   "execution_count": null,
   "id": "52578b75",
   "metadata": {},
   "outputs": [],
   "source": []
  },
  {
   "cell_type": "code",
   "execution_count": null,
   "id": "b7459f6c",
   "metadata": {},
   "outputs": [],
   "source": []
  }
 ],
 "metadata": {
  "kernelspec": {
   "display_name": "Python 3 (ipykernel)",
   "language": "python",
   "name": "python3"
  },
  "language_info": {
   "codemirror_mode": {
    "name": "ipython",
    "version": 3
   },
   "file_extension": ".py",
   "mimetype": "text/x-python",
   "name": "python",
   "nbconvert_exporter": "python",
   "pygments_lexer": "ipython3",
   "version": "3.11.3"
  }
 },
 "nbformat": 4,
 "nbformat_minor": 5
}
