{
 "cells": [
  {
   "cell_type": "code",
   "execution_count": 45,
   "id": "472a41a5",
   "metadata": {},
   "outputs": [],
   "source": [
    "import seaborn as sns\n",
    "import matplotlib.pyplot as plt\n",
    "import pandas as pd\n",
    "import numpy as np\n",
    "from sklearn.model_selection import train_test_split\n",
    "from sklearn.ensemble import RandomForestRegressor\n",
    "from sklearn.tree import DecisionTreeRegressor\n",
    "from sklearn.linear_model import LinearRegression\n",
    "from sklearn.metrics import mean_squared_error,r2_score\n",
    "import xgboost as xgb\n",
    "from sklearn import metrics\n",
    "import mlflow\n",
    "import mlflow.sklearn\n"
   ]
  },
  {
   "cell_type": "markdown",
   "id": "a92f16ed",
   "metadata": {},
   "source": [
    "# Définition de nos variables cibles"
   ]
  },
  {
   "cell_type": "code",
   "execution_count": 46,
   "id": "4d991f5f",
   "metadata": {},
   "outputs": [],
   "source": [
    "data=pd.read_csv(\"../data/flight_data.csv\")"
   ]
  },
  {
   "cell_type": "code",
   "execution_count": 34,
   "id": "7257a090",
   "metadata": {},
   "outputs": [],
   "source": [
    "Y = data['Price']\n",
    "X_data = data.drop(['Price'],axis=1)"
   ]
  },
  {
   "cell_type": "markdown",
   "id": "2d9c4b1f",
   "metadata": {},
   "source": [
    "# Divisez les données en ensembles d’entraînement et de test"
   ]
  },
  {
   "cell_type": "code",
   "execution_count": 35,
   "id": "dae26dc5",
   "metadata": {},
   "outputs": [],
   "source": [
    "X_train_or, X_test, y_train_or, y_test = train_test_split(X, Y, test_size=0.2)\n",
    "X_train, X_val, y_train, y_val = train_test_split(X_train_or, y_train_or,test_size=0.25)"
   ]
  },
  {
   "cell_type": "markdown",
   "id": "b24cef03",
   "metadata": {},
   "source": [
    "# Set Mlflow"
   ]
  },
  {
   "cell_type": "code",
   "execution_count": 39,
   "id": "a0e991b4",
   "metadata": {},
   "outputs": [
    {
     "name": "stdout",
     "output_type": "stream",
     "text": [
      "^C\n"
     ]
    }
   ],
   "source": [
    "!mlflow ui --backend-store-uri sqlite:///mlflow.db"
   ]
  },
  {
   "cell_type": "code",
   "execution_count": 42,
   "id": "32617af5",
   "metadata": {},
   "outputs": [
    {
     "name": "stderr",
     "output_type": "stream",
     "text": [
      "2023/12/15 12:35:54 INFO mlflow.tracking.fluent: Experiment with name 'flight price predicion tracking' does not exist. Creating a new experiment.\n"
     ]
    },
    {
     "data": {
      "text/plain": [
       "<Experiment: artifact_location=('file:///C:/Users/Ce '\n",
       " 'PC/Documents/MLProject/flight-price-prediction/notebooks/mlruns/1'), creation_time=1702640154703, experiment_id='1', last_update_time=1702640154703, lifecycle_stage='active', name='flight price predicion tracking', tags={}>"
      ]
     },
     "execution_count": 42,
     "metadata": {},
     "output_type": "execute_result"
    }
   ],
   "source": [
    "mlflow.set_tracking_uri(\"sqlite:///mlflow.db\")\n",
    "mlflow.set_experiment(\"flight price predicion tracking\")"
   ]
  },
  {
   "cell_type": "markdown",
   "id": "dc377fa4",
   "metadata": {},
   "source": [
    "## Régression linéaire"
   ]
  },
  {
   "cell_type": "code",
   "execution_count": 47,
   "id": "e5ba6cfc",
   "metadata": {},
   "outputs": [
    {
     "name": "stderr",
     "output_type": "stream",
     "text": [
      "C:\\Users\\Ce PC\\anaconda3\\Lib\\site-packages\\_distutils_hack\\__init__.py:33: UserWarning: Setuptools is replacing distutils.\n",
      "  warnings.warn(\"Setuptools is replacing distutils.\")\n"
     ]
    }
   ],
   "source": [
    "with mlflow.start_run(run_name='Linear regression model'):\n",
    "    reg_model=LinearRegression().fit(X_train,y_train)\n",
    "    y_pred_val =reg_model.predict(X_val)\n",
    "\n",
    "    mse_val =mean_squared_error(y_val,y_pred_val)\n",
    "    mae_val=metrics.mean_absolute_error(y_val,y_pred_val)\n",
    "    rmse_val=np.sqrt(metrics.mean_absolute_error(y_val,y_pred_val))\n",
    "    r2_val =r2_score(y_test,y_pred_val)\n",
    "    \n",
    "    val_metrics = {'r2_score': r2_val, 'mse':mse_val,'rmse':rmse_val,'mae':mae_val}\n",
    "    mlflow.log_metrics(val_metrics)\n",
    "    mlflow.sklearn.log_model(reg_model,\"Linear regression model\")\n",
    "mlflow.end_run()"
   ]
  },
  {
   "cell_type": "markdown",
   "id": "6eeb15bb",
   "metadata": {},
   "source": [
    "## Random forest"
   ]
  },
  {
   "cell_type": "code",
   "execution_count": 48,
   "id": "f0ee3134",
   "metadata": {},
   "outputs": [],
   "source": [
    "with mlflow.start_run(run_name='Random Forest Regressor Model'):\n",
    "    rf = RandomForestRegressor()\n",
    "    rf.fit(X_train, y_train)\n",
    "    y_pred_val_rf = rf.predict(X_val)\n",
    "\n",
    "    mse_val_rf = mean_squared_error(y_val, y_pred_val_rf)\n",
    "    mae_val_rf = metrics.mean_absolute_error(y_val, y_pred_val_rf)\n",
    "    rmse_val_rf = np.sqrt(mean_squared_error(y_val, y_pred_val_rf))\n",
    "    r2_val_rf = r2_score(y_val, y_pred_val_rf)\n",
    "\n",
    "    val_metrics_rf = {'r2_score': r2_val_rf, 'mse': mse_val_rf, 'rmse': rmse_val_rf, 'mae': mae_val_rf}\n",
    "    mlflow.log_metrics(val_metrics_rf)\n",
    "    mlflow.sklearn.log_model(rf, \"Random Forest Regressor Model\")\n",
    "mlflow.end_run()"
   ]
  },
  {
   "cell_type": "markdown",
   "id": "f6a03f95",
   "metadata": {},
   "source": [
    "## XG BOOST"
   ]
  },
  {
   "cell_type": "code",
   "execution_count": 50,
   "id": "f7255468",
   "metadata": {},
   "outputs": [
    {
     "name": "stderr",
     "output_type": "stream",
     "text": [
      "C:\\Users\\Ce PC\\anaconda3\\Lib\\site-packages\\xgboost\\core.py:160: UserWarning: [13:25:13] WARNING: C:\\buildkite-agent\\builds\\buildkite-windows-cpu-autoscaling-group-i-0750514818a16474a-1\\xgboost\\xgboost-ci-windows\\src\\c_api\\c_api.cc:1240: Saving into deprecated binary model format, please consider using `json` or `ubj`. Model format will default to JSON in XGBoost 2.2 if not specified.\n",
      "  warnings.warn(smsg, UserWarning)\n"
     ]
    }
   ],
   "source": [
    "\n",
    "with mlflow.start_run(run_name='XGBoost Regressor Model'):\n",
    "    # Define hyperparameters\n",
    "    xg_params = {\n",
    "        'objective': 'reg:squarederror',\n",
    "        'colsample_bytree': 0.3,\n",
    "        'learning_rate': 0.1,\n",
    "        'max_depth': 5,\n",
    "        'alpha': 10,\n",
    "        'n_estimators': 10\n",
    "    }\n",
    "    xg_reg = xgb.XGBRegressor(**xg_params) \n",
    "\n",
    "    xg_reg.fit(X_train, y_train)\n",
    "    y_pred_val_xgb = xg_reg.predict(X_val)\n",
    "\n",
    "    mse_val_xgb = mean_squared_error(y_val, y_pred_val_xgb)\n",
    "    mae_val_xgb = metrics.mean_absolute_error(y_val, y_pred_val_xgb)\n",
    "    rmse_val_xgb = np.sqrt(mean_squared_error(y_val, y_pred_val_xgb))\n",
    "    r2_val_xgb = r2_score(y_val, y_pred_val_xgb)\n",
    "\n",
    "    val_metrics_xgb = {'r2_score': r2_val_xgb, 'mse': mse_val_xgb, 'rmse': rmse_val_xgb, 'mae': mae_val_xgb}\n",
    "    mlflow.log_metrics(val_metrics_xgb)\n",
    "    mlflow.log_params(xg_params)\n",
    "  \n",
    "    mlflow.xgboost.log_model(xg_reg, \"XGBoost Regressor Model\")\n",
    "    \n",
    "mlflow.end_run()\n"
   ]
  },
  {
   "cell_type": "code",
   "execution_count": 52,
   "id": "2835cc1a",
   "metadata": {},
   "outputs": [],
   "source": [
    "with mlflow.start_run(run_name='Decision Tree Model'):\n",
    "    dt_model = DecisionTreeRegressor()\n",
    "\n",
    "    dt_model.fit(X_val, y_val)\n",
    "    y_pred_val = dt_model.predict(X_val)\n",
    "\n",
    "\n",
    "    mse_val =mean_squared_error(y_val,y_pred_val)\n",
    "    mae_val=metrics.mean_absolute_error(y_val,y_pred_val)\n",
    "    rmse_val=np.sqrt(metrics.mean_absolute_error(y_val,y_pred_val))\n",
    "    r2_val =r2_score(y_test,y_pred_val)\n",
    "\n",
    "\n",
    "    val_metrics = {'r2_score': r2_val, 'mse':mse_val,'rmse':rmse_val,'mae':mae_val}\n",
    "    mlflow.log_metrics(val_metrics)\n",
    "    mlflow.sklearn.log_model(dt_model,\"Decision TreeRegressor model\")\n",
    "mlflow.end_run()"
   ]
  },
  {
   "cell_type": "code",
   "execution_count": null,
   "id": "d7268afd",
   "metadata": {},
   "outputs": [],
   "source": []
  },
  {
   "cell_type": "code",
   "execution_count": null,
   "id": "12ec2ec8",
   "metadata": {},
   "outputs": [],
   "source": []
  }
 ],
 "metadata": {
  "kernelspec": {
   "display_name": "Python 3 (ipykernel)",
   "language": "python",
   "name": "python3"
  },
  "language_info": {
   "codemirror_mode": {
    "name": "ipython",
    "version": 3
   },
   "file_extension": ".py",
   "mimetype": "text/x-python",
   "name": "python",
   "nbconvert_exporter": "python",
   "pygments_lexer": "ipython3",
   "version": "3.11.4"
  }
 },
 "nbformat": 4,
 "nbformat_minor": 5
}
