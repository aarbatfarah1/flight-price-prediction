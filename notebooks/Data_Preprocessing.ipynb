{
 "cells": [
  {
   "cell_type": "code",
<<<<<<< HEAD
   "execution_count": 24,
=======
   "execution_count": 2,
   "id": "77c8ee26",
>>>>>>> 1fc455092d1efba11f15b55cd79418a17bda034c
   "metadata": {},
   "outputs": [],
   "source": [
    "import pandas as pd\n",
    "from datetime import datetime\n",
    "import re\n",
    "from sklearn.utils import shuffle"
   ]
  },
  {
   "cell_type": "code",
<<<<<<< HEAD
   "execution_count": 25,
=======
   "execution_count": 3,
   "id": "b31df11c",
>>>>>>> 1fc455092d1efba11f15b55cd79418a17bda034c
   "metadata": {},
   "outputs": [],
   "source": [
    "def extract_numeric_value(value_string):\n",
    "    # Use regular expression to find digits and commas\n",
    "    matches = re.findall(r'\\d+', value_string.replace(',', ''))\n",
    "\n",
    "    # Join the matches into a single string and convert to float\n",
    "    numeric_value = float(''.join(matches))\n",
    "    return numeric_value\n",
    "\n",
    "def convert_aed_to_mad(amount_in_aed):\n",
    "    amount_in_aed = extract_numeric_value(amount_in_aed)\n",
    "    amount_in_mad = amount_in_aed * 2.73\n",
    "    return amount_in_mad\n",
    "def convert_price(df):\n",
    "    for index, row in df.iterrows():\n",
    "    # Access individual elements using column names\n",
    "        row['Price'] = convert_aed_to_mad(row['Price'])"
   ]
  },
  {
   "cell_type": "code",
<<<<<<< HEAD
   "execution_count": 26,
=======
   "execution_count": 4,
   "id": "f04c6cb1",
>>>>>>> 1fc455092d1efba11f15b55cd79418a17bda034c
   "metadata": {},
   "outputs": [],
   "source": [
    "def clean_arrival_time(arrival_time):\n",
    "    if '+' in arrival_time:\n",
    "        return arrival_time.split('+')[0]\n",
    "    else:\n",
    "        return arrival_time"
   ]
  },
  {
   "cell_type": "code",
<<<<<<< HEAD
   "execution_count": 27,
=======
   "execution_count": 5,
   "id": "c5c5df94",
>>>>>>> 1fc455092d1efba11f15b55cd79418a17bda034c
   "metadata": {},
   "outputs": [],
   "source": [
    "def convert_to_minutes(duration):\n",
    "    parts = duration.split(' ')\n",
    "    \n",
    "    hours = 0\n",
    "    minutes = 0\n",
    "    \n",
    "    if 'h' in parts[0]:\n",
    "        hours = int(parts[0].replace('h', ''))\n",
    "    \n",
    "    if 'm' in parts[-1]:\n",
    "        minutes = int(parts[-1].replace('m', ''))\n",
    "    \n",
<<<<<<< HEAD
    "    return hours * 60 + minutes"
=======
    "    return hours * 60 + minutes\n",
    "\n"
>>>>>>> 1fc455092d1efba11f15b55cd79418a17bda034c
   ]
  },
  {
   "cell_type": "code",
<<<<<<< HEAD
   "execution_count": 28,
=======
   "execution_count": 6,
   "id": "d062fe28",
>>>>>>> 1fc455092d1efba11f15b55cd79418a17bda034c
   "metadata": {},
   "outputs": [],
   "source": [
    "def convert_stops_to_numeric(df, column_name):\n",
    "    mapping_dict = {value: index for index, value in enumerate(df[column_name].unique())}\n",
    "\n",
    "    df[column_name] = df[column_name].replace(mapping_dict)\n",
    "\n",
    "    return df\n"
   ]
  },
  {
   "cell_type": "code",
<<<<<<< HEAD
   "execution_count": 29,
=======
   "execution_count": 7,
   "id": "c2840a61",
>>>>>>> 1fc455092d1efba11f15b55cd79418a17bda034c
   "metadata": {},
   "outputs": [],
   "source": [
    "def date_to_season(date_str):\n",
    "    # Convert the date string to a datetime object\n",
    "    date_object = datetime.strptime(date_str, '%Y-%m-%d')\n",
    "\n",
    "    # Extract the month from the datetime object\n",
    "    month = date_object.month\n",
    "\n",
    "    # Determine the season based on the month\n",
    "    if 3 <= month <= 5:\n",
    "        return 'Spring'\n",
    "    elif 6 <= month <= 8:\n",
    "        return 'Summer'\n",
    "    elif 9 <= month <= 11:\n",
    "        return 'Autumn'\n",
    "    else:\n",
    "        return 'Winter'\n",
    "def df_to_season(df):\n",
    "    seasons=[]\n",
    "    for index, row in df.iterrows():\n",
    "        # Access individual elements using column names\n",
    "        row['Season'] = date_to_season(row['Date'])\n",
    "        seasons.append(row['Season'])\n",
    "    df['Season']=seasons"
   ]
  },
  {
   "cell_type": "code",
<<<<<<< HEAD
   "execution_count": 30,
=======
   "execution_count": 8,
   "id": "74f1e065",
>>>>>>> 1fc455092d1efba11f15b55cd79418a17bda034c
   "metadata": {},
   "outputs": [],
   "source": [
    "def categorize_time(hour):\n",
    "    # Split the string using \":\" as the delimiter\n",
    "    hours, minutes = map(int, hour.split(':'))\n",
    "    # Extract the hour part as an integer\n",
    "    hour_as_int = int(hours)\n",
    "    if 4 <= hour_as_int < 7:\n",
    "        return \"Early Morning\"\n",
    "    elif 7 <= hour_as_int < 12:\n",
    "        return \"Morning\"\n",
    "    elif 12 <= hour_as_int < 17:\n",
    "        return \"Afternoon\"\n",
    "    elif 17 <= hour_as_int < 20:\n",
    "        return \"Evening\"\n",
    "    elif 20 <= hour_as_int < 24:\n",
    "        return \"Night\"\n",
    "    else:\n",
    "        return \"Late Night\""
   ]
  },
  {
   "cell_type": "markdown",
<<<<<<< HEAD
=======
   "id": "c0ada9e2",
>>>>>>> 1fc455092d1efba11f15b55cd79418a17bda034c
   "metadata": {},
   "source": [
    "# Data cleaning"
   ]
  },
  {
   "cell_type": "code",
<<<<<<< HEAD
   "execution_count": 31,
=======
   "execution_count": 9,
   "id": "41738f5a",
>>>>>>> 1fc455092d1efba11f15b55cd79418a17bda034c
   "metadata": {},
   "outputs": [],
   "source": [
    "data= pd.read_csv('..\\data\\\\airlines_dataset.csv')"
   ]
  },
  {
   "cell_type": "code",
<<<<<<< HEAD
   "execution_count": 32,
=======
   "execution_count": 10,
   "id": "4ffdfae4",
>>>>>>> 1fc455092d1efba11f15b55cd79418a17bda034c
   "metadata": {},
   "outputs": [
    {
     "data": {
      "text/plain": [
       "Airline          0\n",
       "Source           0\n",
       "Destination      0\n",
       "Duration         0\n",
       "stops            0\n",
       "class            0\n",
       "depature time    0\n",
       "arrival time     0\n",
       "Price            0\n",
       "Date             0\n",
       "dtype: int64"
      ]
     },
<<<<<<< HEAD
     "execution_count": 32,
=======
     "execution_count": 10,
>>>>>>> 1fc455092d1efba11f15b55cd79418a17bda034c
     "metadata": {},
     "output_type": "execute_result"
    }
   ],
   "source": [
<<<<<<< HEAD
    "#checking null values\n",
=======
    "#checking null values \n",
>>>>>>> 1fc455092d1efba11f15b55cd79418a17bda034c
    "data.isnull().sum()"
   ]
  },
  {
   "cell_type": "markdown",
<<<<<<< HEAD
   "metadata": {},
   "source": [
    "#### Converting price to numeric values "
=======
   "id": "59063e54",
   "metadata": {},
   "source": [
    "#### Converting price to numeric values"
>>>>>>> 1fc455092d1efba11f15b55cd79418a17bda034c
   ]
  },
  {
   "cell_type": "code",
<<<<<<< HEAD
   "execution_count": 33,
=======
   "execution_count": 11,
   "id": "16abee29",
>>>>>>> 1fc455092d1efba11f15b55cd79418a17bda034c
   "metadata": {},
   "outputs": [],
   "source": [
    "convert_price(data)"
   ]
  },
  {
   "cell_type": "markdown",
<<<<<<< HEAD
=======
   "id": "9da44eb2",
>>>>>>> 1fc455092d1efba11f15b55cd79418a17bda034c
   "metadata": {},
   "source": [
    "#### Converting duration to minutes"
   ]
  },
  {
   "cell_type": "code",
<<<<<<< HEAD
   "execution_count": 34,
   "metadata": {},
   "outputs": [],
   "source": [
    "data['Duration'] = data['Duration'].apply(convert_to_minutes)\n"
=======
   "execution_count": 12,
   "id": "de53ab37",
   "metadata": {},
   "outputs": [],
   "source": [
    "data['Duration'] = data['Duration'].apply(convert_to_minutes)"
>>>>>>> 1fc455092d1efba11f15b55cd79418a17bda034c
   ]
  },
  {
   "cell_type": "markdown",
<<<<<<< HEAD
=======
   "id": "71e5c9f0",
>>>>>>> 1fc455092d1efba11f15b55cd79418a17bda034c
   "metadata": {},
   "source": [
    "#### Converting stops to numeric values"
   ]
  },
  {
   "cell_type": "code",
<<<<<<< HEAD
   "execution_count": 35,
=======
   "execution_count": 13,
   "id": "3c91cc0b",
>>>>>>> 1fc455092d1efba11f15b55cd79418a17bda034c
   "metadata": {},
   "outputs": [],
   "source": [
    "data = convert_stops_to_numeric(data, 'stops')"
   ]
  },
  {
   "cell_type": "markdown",
<<<<<<< HEAD
=======
   "id": "dbef799e",
>>>>>>> 1fc455092d1efba11f15b55cd79418a17bda034c
   "metadata": {},
   "source": [
    "# Feature engineering"
   ]
  },
  {
   "cell_type": "markdown",
<<<<<<< HEAD
=======
   "id": "ee63c47b",
>>>>>>> 1fc455092d1efba11f15b55cd79418a17bda034c
   "metadata": {},
   "source": [
    "#### Converting date to season"
   ]
  },
  {
   "cell_type": "code",
<<<<<<< HEAD
   "execution_count": 36,
=======
   "execution_count": 14,
   "id": "ffd970f0",
>>>>>>> 1fc455092d1efba11f15b55cd79418a17bda034c
   "metadata": {},
   "outputs": [],
   "source": [
    "df_to_season(data)"
   ]
  },
  {
   "cell_type": "markdown",
<<<<<<< HEAD
   "metadata": {},
   "source": [
    "#### Categorizing arrival and departure time "
=======
   "id": "83202d2d",
   "metadata": {},
   "source": [
    "#### Categorizing arrival and depature time"
>>>>>>> 1fc455092d1efba11f15b55cd79418a17bda034c
   ]
  },
  {
   "cell_type": "code",
<<<<<<< HEAD
   "execution_count": 37,
=======
   "execution_count": 15,
   "id": "6bd673b6",
>>>>>>> 1fc455092d1efba11f15b55cd79418a17bda034c
   "metadata": {},
   "outputs": [],
   "source": [
    "data['arrival time'] = data['arrival time'].apply(clean_arrival_time)\n",
    "data['arrival time']= data['arrival time'].apply(categorize_time)\n",
    "data['depature time']= data['depature time'].apply(categorize_time)"
   ]
  },
  {
   "cell_type": "markdown",
<<<<<<< HEAD
   "metadata": {},
   "source": [
    "#### Converting to the appropriate column type"
=======
   "id": "19deec54",
   "metadata": {},
   "source": [
    "#### Converting to the  appropriate column type "
>>>>>>> 1fc455092d1efba11f15b55cd79418a17bda034c
   ]
  },
  {
   "cell_type": "code",
<<<<<<< HEAD
   "execution_count": 38,
   "metadata": {},
   "outputs": [],
   "source": [
    "data['Date']=pd.to_datetime(data['Date'])\n",
    "data['Price']=data['Price'].astype(float)\n"
=======
   "execution_count": 19,
   "id": "dd18233f",
   "metadata": {},
   "outputs": [],
   "source": [
    "data['Date'] = pd.to_datetime(data['Date'])\n",
    "data['Price'] = data['Price'].astype(float)"
>>>>>>> 1fc455092d1efba11f15b55cd79418a17bda034c
   ]
  },
  {
   "cell_type": "code",
<<<<<<< HEAD
   "execution_count": 39,
=======
   "execution_count": 20,
   "id": "c980251f",
>>>>>>> 1fc455092d1efba11f15b55cd79418a17bda034c
   "metadata": {},
   "outputs": [
    {
     "data": {
      "text/plain": [
       "Airline                  object\n",
       "Source                   object\n",
       "Destination              object\n",
       "Duration                  int64\n",
       "stops                     int64\n",
       "class                    object\n",
       "depature time            object\n",
       "arrival time             object\n",
       "Price                   float64\n",
       "Date             datetime64[ns]\n",
       "Season                   object\n",
       "dtype: object"
      ]
     },
<<<<<<< HEAD
     "execution_count": 39,
=======
     "execution_count": 20,
>>>>>>> 1fc455092d1efba11f15b55cd79418a17bda034c
     "metadata": {},
     "output_type": "execute_result"
    }
   ],
   "source": [
    "data.dtypes"
   ]
  },
  {
   "cell_type": "markdown",
<<<<<<< HEAD
=======
   "id": "d24b7cef",
>>>>>>> 1fc455092d1efba11f15b55cd79418a17bda034c
   "metadata": {},
   "source": [
    "# Preprocessed data"
   ]
  },
  {
   "cell_type": "code",
<<<<<<< HEAD
   "execution_count": 43,
=======
   "execution_count": 22,
   "id": "dd5a4596",
>>>>>>> 1fc455092d1efba11f15b55cd79418a17bda034c
   "metadata": {},
   "outputs": [
    {
     "data": {
      "text/html": [
       "<div>\n",
       "<style scoped>\n",
       "    .dataframe tbody tr th:only-of-type {\n",
       "        vertical-align: middle;\n",
       "    }\n",
       "\n",
       "    .dataframe tbody tr th {\n",
       "        vertical-align: top;\n",
       "    }\n",
       "\n",
       "    .dataframe thead th {\n",
       "        text-align: right;\n",
       "    }\n",
       "</style>\n",
       "<table border=\"1\" class=\"dataframe\">\n",
       "  <thead>\n",
       "    <tr style=\"text-align: right;\">\n",
       "      <th></th>\n",
       "      <th>Airline</th>\n",
       "      <th>Source</th>\n",
       "      <th>Destination</th>\n",
       "      <th>Duration</th>\n",
       "      <th>stops</th>\n",
       "      <th>class</th>\n",
       "      <th>depature time</th>\n",
       "      <th>arrival time</th>\n",
       "      <th>Price</th>\n",
       "      <th>Date</th>\n",
       "      <th>Season</th>\n",
       "    </tr>\n",
       "  </thead>\n",
       "  <tbody>\n",
       "    <tr>\n",
<<<<<<< HEAD
       "      <th>258</th>\n",
       "      <td>Turkish Airlines</td>\n",
       "      <td>PAR</td>\n",
       "      <td>IST</td>\n",
       "      <td>210</td>\n",
       "      <td>0</td>\n",
       "      <td>business</td>\n",
       "      <td>Evening</td>\n",
       "      <td>Late Night</td>\n",
       "      <td>10540.53</td>\n",
       "      <td>2023-12-09</td>\n",
       "      <td>Winter</td>\n",
       "    </tr>\n",
       "    <tr>\n",
       "      <th>1198</th>\n",
       "      <td>Turkish Airlines</td>\n",
       "      <td>ROM</td>\n",
       "      <td>CMN</td>\n",
       "      <td>575</td>\n",
=======
       "      <th>1374</th>\n",
       "      <td>Iberia</td>\n",
       "      <td>ROM</td>\n",
       "      <td>CMN</td>\n",
       "      <td>580</td>\n",
       "      <td>1</td>\n",
       "      <td>business</td>\n",
       "      <td>Morning</td>\n",
       "      <td>Night</td>\n",
       "      <td>4135.95</td>\n",
       "      <td>2024-03-17</td>\n",
       "      <td>Spring</td>\n",
       "    </tr>\n",
       "    <tr>\n",
       "      <th>2293</th>\n",
       "      <td>Transavia</td>\n",
       "      <td>ROM</td>\n",
       "      <td>CMN</td>\n",
       "      <td>590</td>\n",
>>>>>>> 1fc455092d1efba11f15b55cd79418a17bda034c
       "      <td>1</td>\n",
       "      <td>economy</td>\n",
       "      <td>Early Morning</td>\n",
       "      <td>Afternoon</td>\n",
<<<<<<< HEAD
       "      <td>2948.40</td>\n",
       "      <td>2024-03-17</td>\n",
       "      <td>Spring</td>\n",
       "    </tr>\n",
       "    <tr>\n",
       "      <th>622</th>\n",
       "      <td>Turkish Airlines</td>\n",
       "      <td>PAR</td>\n",
       "      <td>IST</td>\n",
       "      <td>210</td>\n",
       "      <td>0</td>\n",
       "      <td>business</td>\n",
       "      <td>Evening</td>\n",
       "      <td>Late Night</td>\n",
       "      <td>8506.68</td>\n",
       "      <td>2024-01-12</td>\n",
       "      <td>Winter</td>\n",
       "    </tr>\n",
       "    <tr>\n",
       "      <th>1210</th>\n",
       "      <td>easyJet</td>\n",
       "      <td>ROM</td>\n",
       "      <td>PAR</td>\n",
       "      <td>130</td>\n",
       "      <td>0</td>\n",
       "      <td>economy</td>\n",
       "      <td>Morning</td>\n",
       "      <td>Afternoon</td>\n",
       "      <td>619.71</td>\n",
       "      <td>2024-03-17</td>\n",
       "      <td>Spring</td>\n",
       "    </tr>\n",
       "    <tr>\n",
       "      <th>1613</th>\n",
       "      <td>Transavia France</td>\n",
       "      <td>IST</td>\n",
       "      <td>PAR</td>\n",
       "      <td>230</td>\n",
       "      <td>0</td>\n",
       "      <td>economy</td>\n",
       "      <td>Morning</td>\n",
       "      <td>Morning</td>\n",
       "      <td>1168.44</td>\n",
=======
       "      <td>2443.35</td>\n",
       "      <td>2024-06-01</td>\n",
       "      <td>Summer</td>\n",
       "    </tr>\n",
       "    <tr>\n",
       "      <th>3379</th>\n",
       "      <td>Lufthansa</td>\n",
       "      <td>ROM</td>\n",
       "      <td>CMN</td>\n",
       "      <td>570</td>\n",
       "      <td>2</td>\n",
       "      <td>economy</td>\n",
       "      <td>Afternoon</td>\n",
       "      <td>Late Night</td>\n",
       "      <td>2156.70</td>\n",
       "      <td>2024-09-03</td>\n",
       "      <td>Autumn</td>\n",
       "    </tr>\n",
       "    <tr>\n",
       "      <th>1090</th>\n",
       "      <td>Egypt Air</td>\n",
       "      <td>IST</td>\n",
       "      <td>ROM</td>\n",
       "      <td>640</td>\n",
       "      <td>1</td>\n",
       "      <td>business</td>\n",
       "      <td>Late Night</td>\n",
       "      <td>Afternoon</td>\n",
       "      <td>5561.01</td>\n",
       "      <td>2024-02-10</td>\n",
       "      <td>Winter</td>\n",
       "    </tr>\n",
       "    <tr>\n",
       "      <th>1803</th>\n",
       "      <td>TAROM</td>\n",
       "      <td>IST</td>\n",
       "      <td>PAR</td>\n",
       "      <td>350</td>\n",
       "      <td>1</td>\n",
       "      <td>business</td>\n",
       "      <td>Morning</td>\n",
       "      <td>Afternoon</td>\n",
       "      <td>8097.18</td>\n",
>>>>>>> 1fc455092d1efba11f15b55cd79418a17bda034c
       "      <td>2024-04-18</td>\n",
       "      <td>Spring</td>\n",
       "    </tr>\n",
       "    <tr>\n",
       "      <th>...</th>\n",
       "      <td>...</td>\n",
       "      <td>...</td>\n",
       "      <td>...</td>\n",
       "      <td>...</td>\n",
       "      <td>...</td>\n",
       "      <td>...</td>\n",
       "      <td>...</td>\n",
       "      <td>...</td>\n",
       "      <td>...</td>\n",
       "      <td>...</td>\n",
       "      <td>...</td>\n",
       "    </tr>\n",
       "    <tr>\n",
<<<<<<< HEAD
       "      <th>47</th>\n",
       "      <td>Royal Air Maroc</td>\n",
       "      <td>PAR</td>\n",
       "      <td>CMN</td>\n",
       "      <td>185</td>\n",
       "      <td>0</td>\n",
       "      <td>economy</td>\n",
       "      <td>Night</td>\n",
       "      <td>Night</td>\n",
       "      <td>2402.40</td>\n",
       "      <td>2023-12-09</td>\n",
       "      <td>Winter</td>\n",
       "    </tr>\n",
       "    <tr>\n",
       "      <th>2829</th>\n",
       "      <td>Lufthansa</td>\n",
       "      <td>ROM</td>\n",
       "      <td>CMN</td>\n",
       "      <td>400</td>\n",
       "      <td>1</td>\n",
       "      <td>business</td>\n",
       "      <td>Evening</td>\n",
       "      <td>Late Night</td>\n",
       "      <td>4641.00</td>\n",
       "      <td>2024-07-04</td>\n",
       "      <td>Summer</td>\n",
       "    </tr>\n",
       "    <tr>\n",
       "      <th>4114</th>\n",
       "      <td>easyJet</td>\n",
       "      <td>ROM</td>\n",
       "      <td>PAR</td>\n",
       "      <td>130</td>\n",
       "      <td>0</td>\n",
       "      <td>economy</td>\n",
       "      <td>Afternoon</td>\n",
       "      <td>Evening</td>\n",
       "      <td>616.98</td>\n",
       "      <td>2024-11-05</td>\n",
       "      <td>Autumn</td>\n",
       "    </tr>\n",
       "    <tr>\n",
       "      <th>1416</th>\n",
       "      <td>Royal Air Maroc</td>\n",
       "      <td>IST</td>\n",
       "      <td>CMN</td>\n",
       "      <td>350</td>\n",
       "      <td>0</td>\n",
       "      <td>business</td>\n",
       "      <td>Evening</td>\n",
       "      <td>Night</td>\n",
       "      <td>14927.64</td>\n",
       "      <td>2024-03-17</td>\n",
       "      <td>Spring</td>\n",
       "    </tr>\n",
       "    <tr>\n",
       "      <th>3694</th>\n",
       "      <td>British Airways</td>\n",
       "      <td>PAR</td>\n",
       "      <td>CMN</td>\n",
       "      <td>610</td>\n",
       "      <td>2</td>\n",
       "      <td>economy</td>\n",
       "      <td>Morning</td>\n",
       "      <td>Evening</td>\n",
       "      <td>2839.20</td>\n",
       "      <td>2024-10-19</td>\n",
       "      <td>Autumn</td>\n",
       "    </tr>\n",
=======
       "      <th>3444</th>\n",
       "      <td>Pegasus Airlines</td>\n",
       "      <td>IST</td>\n",
       "      <td>PAR</td>\n",
       "      <td>230</td>\n",
       "      <td>0</td>\n",
       "      <td>economy</td>\n",
       "      <td>Afternoon</td>\n",
       "      <td>Afternoon</td>\n",
       "      <td>3559.92</td>\n",
       "      <td>2024-09-03</td>\n",
       "      <td>Autumn</td>\n",
       "    </tr>\n",
       "    <tr>\n",
       "      <th>466</th>\n",
       "      <td>Iberia</td>\n",
       "      <td>ROM</td>\n",
       "      <td>CMN</td>\n",
       "      <td>505</td>\n",
       "      <td>2</td>\n",
       "      <td>economy</td>\n",
       "      <td>Early Morning</td>\n",
       "      <td>Afternoon</td>\n",
       "      <td>2429.70</td>\n",
       "      <td>2024-01-12</td>\n",
       "      <td>Winter</td>\n",
       "    </tr>\n",
       "    <tr>\n",
       "      <th>3092</th>\n",
       "      <td>Turkish Airlines</td>\n",
       "      <td>IST</td>\n",
       "      <td>ROM</td>\n",
       "      <td>160</td>\n",
       "      <td>0</td>\n",
       "      <td>economy</td>\n",
       "      <td>Afternoon</td>\n",
       "      <td>Afternoon</td>\n",
       "      <td>3628.17</td>\n",
       "      <td>2024-08-16</td>\n",
       "      <td>Summer</td>\n",
       "    </tr>\n",
       "    <tr>\n",
       "      <th>3772</th>\n",
       "      <td>ITA Airways</td>\n",
       "      <td>ROM</td>\n",
       "      <td>IST</td>\n",
       "      <td>150</td>\n",
       "      <td>0</td>\n",
       "      <td>economy</td>\n",
       "      <td>Morning</td>\n",
       "      <td>Afternoon</td>\n",
       "      <td>1911.00</td>\n",
       "      <td>2024-10-19</td>\n",
       "      <td>Autumn</td>\n",
       "    </tr>\n",
       "    <tr>\n",
       "      <th>860</th>\n",
       "      <td>ITA Airways</td>\n",
       "      <td>ROM</td>\n",
       "      <td>IST</td>\n",
       "      <td>160</td>\n",
       "      <td>0</td>\n",
       "      <td>economy</td>\n",
       "      <td>Early Morning</td>\n",
       "      <td>Morning</td>\n",
       "      <td>1722.63</td>\n",
       "      <td>2024-02-10</td>\n",
       "      <td>Winter</td>\n",
       "    </tr>\n",
>>>>>>> 1fc455092d1efba11f15b55cd79418a17bda034c
       "  </tbody>\n",
       "</table>\n",
       "<p>4368 rows × 11 columns</p>\n",
       "</div>"
      ],
      "text/plain": [
       "               Airline Source Destination  Duration  stops     class  \\\n",
<<<<<<< HEAD
       "258   Turkish Airlines    PAR         IST       210      0  business   \n",
       "1198  Turkish Airlines    ROM         CMN       575      1   economy   \n",
       "622   Turkish Airlines    PAR         IST       210      0  business   \n",
       "1210           easyJet    ROM         PAR       130      0   economy   \n",
       "1613  Transavia France    IST         PAR       230      0   economy   \n",
       "...                ...    ...         ...       ...    ...       ...   \n",
       "47     Royal Air Maroc    PAR         CMN       185      0   economy   \n",
       "2829         Lufthansa    ROM         CMN       400      1  business   \n",
       "4114           easyJet    ROM         PAR       130      0   economy   \n",
       "1416   Royal Air Maroc    IST         CMN       350      0  business   \n",
       "3694   British Airways    PAR         CMN       610      2   economy   \n",
       "\n",
       "      depature time arrival time     Price       Date  Season  \n",
       "258         Evening   Late Night  10540.53 2023-12-09  Winter  \n",
       "1198  Early Morning    Afternoon   2948.40 2024-03-17  Spring  \n",
       "622         Evening   Late Night   8506.68 2024-01-12  Winter  \n",
       "1210        Morning    Afternoon    619.71 2024-03-17  Spring  \n",
       "1613        Morning      Morning   1168.44 2024-04-18  Spring  \n",
       "...             ...          ...       ...        ...     ...  \n",
       "47            Night        Night   2402.40 2023-12-09  Winter  \n",
       "2829        Evening   Late Night   4641.00 2024-07-04  Summer  \n",
       "4114      Afternoon      Evening    616.98 2024-11-05  Autumn  \n",
       "1416        Evening        Night  14927.64 2024-03-17  Spring  \n",
       "3694        Morning      Evening   2839.20 2024-10-19  Autumn  \n",
=======
       "1374            Iberia    ROM         CMN       580      1  business   \n",
       "2293         Transavia    ROM         CMN       590      1   economy   \n",
       "3379         Lufthansa    ROM         CMN       570      2   economy   \n",
       "1090         Egypt Air    IST         ROM       640      1  business   \n",
       "1803             TAROM    IST         PAR       350      1  business   \n",
       "...                ...    ...         ...       ...    ...       ...   \n",
       "3444  Pegasus Airlines    IST         PAR       230      0   economy   \n",
       "466             Iberia    ROM         CMN       505      2   economy   \n",
       "3092  Turkish Airlines    IST         ROM       160      0   economy   \n",
       "3772       ITA Airways    ROM         IST       150      0   economy   \n",
       "860        ITA Airways    ROM         IST       160      0   economy   \n",
       "\n",
       "      depature time arrival time    Price       Date  Season  \n",
       "1374        Morning        Night  4135.95 2024-03-17  Spring  \n",
       "2293  Early Morning    Afternoon  2443.35 2024-06-01  Summer  \n",
       "3379      Afternoon   Late Night  2156.70 2024-09-03  Autumn  \n",
       "1090     Late Night    Afternoon  5561.01 2024-02-10  Winter  \n",
       "1803        Morning    Afternoon  8097.18 2024-04-18  Spring  \n",
       "...             ...          ...      ...        ...     ...  \n",
       "3444      Afternoon    Afternoon  3559.92 2024-09-03  Autumn  \n",
       "466   Early Morning    Afternoon  2429.70 2024-01-12  Winter  \n",
       "3092      Afternoon    Afternoon  3628.17 2024-08-16  Summer  \n",
       "3772        Morning    Afternoon  1911.00 2024-10-19  Autumn  \n",
       "860   Early Morning      Morning  1722.63 2024-02-10  Winter  \n",
>>>>>>> 1fc455092d1efba11f15b55cd79418a17bda034c
       "\n",
       "[4368 rows x 11 columns]"
      ]
     },
<<<<<<< HEAD
     "execution_count": 43,
=======
     "execution_count": 22,
>>>>>>> 1fc455092d1efba11f15b55cd79418a17bda034c
     "metadata": {},
     "output_type": "execute_result"
    }
   ],
   "source": [
    "data = shuffle(data, random_state=42)\n",
    "data"
   ]
  },
  {
   "cell_type": "code",
<<<<<<< HEAD
   "execution_count": 44,
   "metadata": {},
   "outputs": [],
   "source": [
    "data.to_csv(\"../data/preprocessed_data.csv\", index=False)"
   ]
  },
  {
   "cell_type": "markdown",
   "metadata": {},
=======
   "execution_count": 23,
   "id": "dcbc39cb",
   "metadata": {},
   "outputs": [],
   "source": [
    "data.to_csv(\"..\\data\\\\preprocessed_data.csv\", index=False)"
   ]
  },
  {
   "cell_type": "code",
   "execution_count": null,
   "id": "d93a15c4",
   "metadata": {},
   "outputs": [],
>>>>>>> 1fc455092d1efba11f15b55cd79418a17bda034c
   "source": []
  }
 ],
 "metadata": {
  "kernelspec": {
<<<<<<< HEAD
   "display_name": "Python 3",
=======
   "display_name": "Python 3 (ipykernel)",
>>>>>>> 1fc455092d1efba11f15b55cd79418a17bda034c
   "language": "python",
   "name": "python3"
  },
  "language_info": {
   "codemirror_mode": {
    "name": "ipython",
    "version": 3
   },
   "file_extension": ".py",
   "mimetype": "text/x-python",
   "name": "python",
   "nbconvert_exporter": "python",
   "pygments_lexer": "ipython3",
<<<<<<< HEAD
   "version": "3.10.11"
  }
 },
 "nbformat": 4,
 "nbformat_minor": 2
=======
   "version": "3.11.3"
  }
 },
 "nbformat": 4,
 "nbformat_minor": 5
>>>>>>> 1fc455092d1efba11f15b55cd79418a17bda034c
}
