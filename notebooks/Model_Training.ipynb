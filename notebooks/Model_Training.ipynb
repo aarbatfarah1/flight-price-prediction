{
 "cells": [
  {
   "cell_type": "code",
   "execution_count": 82,
   "metadata": {},
   "outputs": [],
   "source": [
    "import seaborn as sns\n",
    "import matplotlib.pyplot as plt\n",
    "import pandas as pd\n",
    "import numpy as np\n",
    "from sklearn.model_selection import train_test_split\n",
    "from sklearn.ensemble import RandomForestRegressor\n",
    "from sklearn.tree import DecisionTreeRegressor\n",
    "import xgboost as xgb\n",
    "from sklearn.model_selection import GridSearchCV\n",
    "from sklearn.metrics import make_scorer\n",
    "from sklearn import metrics\n",
    "import mlflow\n",
    "import mlflow.sklearn\n",
    "from sklearn.linear_model import LinearRegression\n",
    "from sklearn.metrics import mean_squared_error,r2_score"
   ]
  },
  {
   "cell_type": "markdown",
   "metadata": {},
   "source": [
    "#### Définition de nos variables cibles "
   ]
  },
  {
   "cell_type": "code",
   "execution_count": 83,
   "metadata": {},
   "outputs": [],
   "source": [
    "data = pd.read_csv(\"../data/flight_data.csv\")"
   ]
  },
  {
   "cell_type": "code",
   "execution_count": 84,
   "metadata": {},
   "outputs": [],
   "source": [
    "Y = data['Price']\n",
    "X = data.drop(['Price'], axis=1)"
   ]
  },
  {
   "cell_type": "markdown",
   "metadata": {},
   "source": [
    "#### Divisez les données en ensembles d’entraînement et de test"
   ]
  },
  {
   "cell_type": "code",
   "execution_count": 85,
   "metadata": {},
   "outputs": [],
   "source": [
    "X_train, X_test, y_train, y_test = train_test_split(X,Y, test_size=0.2,random_state=70)"
   ]
  },
  {
   "cell_type": "markdown",
   "metadata": {},
   "source": [
    "# Set MLflow"
   ]
  },
  {
   "cell_type": "code",
   "execution_count": 86,
   "metadata": {},
   "outputs": [
    {
     "name": "stderr",
     "output_type": "stream",
     "text": [
      "2024/01/01 01:32:52 INFO mlflow.tracking.fluent: Experiment with name 'Flight price prediction tracking' does not exist. Creating a new experiment.\n"
     ]
    },
    {
     "data": {
      "text/plain": [
       "<Experiment: artifact_location='mlflow-artifacts:/514094643223700237', creation_time=1704069172749, experiment_id='514094643223700237', last_update_time=1704069172749, lifecycle_stage='active', name='Flight price prediction tracking', tags={}>"
      ]
     },
     "execution_count": 86,
     "metadata": {},
     "output_type": "execute_result"
    }
   ],
   "source": [
    "mlflow.set_tracking_uri(\"sqlite:///mlflowtest.db\")\n",
    "mlflow.set_tracking_uri(\"http://localhost:5000\")\n",
    "mlflow.set_experiment(\"Flight price prediction tracking\")"
   ]
  },
  {
   "cell_type": "code",
   "execution_count": 87,
   "metadata": {},
   "outputs": [],
   "source": [
    "mlflow.end_run()"
   ]
  },
  {
   "cell_type": "code",
   "execution_count": 88,
   "metadata": {},
   "outputs": [
    {
     "data": {
      "text/plain": [
       "42"
      ]
     },
     "execution_count": 88,
     "metadata": {},
     "output_type": "execute_result"
    }
   ],
   "source": [
    "mlflow.start_run()\n",
    "mlflow.log_param(\"test_size\", 0.2)\n",
    "mlflow.log_param(\"random_state\", 42)"
   ]
  },
  {
   "cell_type": "markdown",
   "metadata": {},
   "source": [
    "# Linear Regression"
   ]
  },
  {
   "cell_type": "code",
   "execution_count": 89,
   "metadata": {},
   "outputs": [],
   "source": [
    "mlflow.end_run()"
   ]
  },
  {
   "cell_type": "code",
   "execution_count": 90,
   "metadata": {},
   "outputs": [
    {
     "name": "stderr",
     "output_type": "stream",
     "text": [
      "c:\\Users\\Dell\\anaconda3\\Lib\\site-packages\\_distutils_hack\\__init__.py:18: UserWarning: Distutils was imported before Setuptools, but importing Setuptools also replaces the `distutils` module in `sys.modules`. This may lead to undesirable behaviors or errors. To avoid these issues, avoid using distutils directly, ensure that setuptools is installed in the traditional way (e.g. not an editable install), and/or make sure that setuptools is always imported before distutils.\n",
      "  warnings.warn(\n",
      "c:\\Users\\Dell\\anaconda3\\Lib\\site-packages\\_distutils_hack\\__init__.py:33: UserWarning: Setuptools is replacing distutils.\n",
      "  warnings.warn(\"Setuptools is replacing distutils.\")\n"
     ]
    }
   ],
   "source": [
    "with mlflow.start_run(run_name='Linear regression model'):\n",
    "    reg_model=LinearRegression().fit(X_train,y_train)\n",
    "    y_pred_val =reg_model.predict(X_test)\n",
    "\n",
    "    mse_val =mean_squared_error(y_test,y_pred_val)\n",
    "    mae_val=metrics.mean_absolute_error(y_test,y_pred_val)\n",
    "    rmse_val=np.sqrt(metrics.mean_absolute_error(y_test,y_pred_val))\n",
    "    r2_val =r2_score(y_test,y_pred_val)\n",
    "    \n",
    "    val_metrics = {'r2_score': r2_val, 'mse':mse_val,'rmse':rmse_val,'mae':mae_val}\n",
    "    mlflow.log_metrics(val_metrics)\n",
    "    mlflow.sklearn.log_model(reg_model,\"Linear regression model\")\n",
    "mlflow.end_run()\n",
    "    "
   ]
  },
  {
   "cell_type": "markdown",
   "metadata": {},
   "source": [
    "# Random Forest"
   ]
  },
  {
   "cell_type": "code",
   "execution_count": 91,
   "metadata": {},
   "outputs": [
    {
     "name": "stderr",
     "output_type": "stream",
     "text": [
      "c:\\Users\\Dell\\anaconda3\\Lib\\site-packages\\_distutils_hack\\__init__.py:18: UserWarning: Distutils was imported before Setuptools, but importing Setuptools also replaces the `distutils` module in `sys.modules`. This may lead to undesirable behaviors or errors. To avoid these issues, avoid using distutils directly, ensure that setuptools is installed in the traditional way (e.g. not an editable install), and/or make sure that setuptools is always imported before distutils.\n",
      "  warnings.warn(\n",
      "c:\\Users\\Dell\\anaconda3\\Lib\\site-packages\\_distutils_hack\\__init__.py:33: UserWarning: Setuptools is replacing distutils.\n",
      "  warnings.warn(\"Setuptools is replacing distutils.\")\n"
     ]
    }
   ],
   "source": [
    "with mlflow.start_run(run_name='Random Forest Regressor Model'):\n",
    "    rf = RandomForestRegressor()\n",
    "    rf.fit(X_train, y_train)\n",
    "    y_pred_val_rf = rf.predict(X_test)\n",
    "\n",
    "    mse_val_rf = mean_squared_error(y_test, y_pred_val_rf)\n",
    "    mae_val_rf = metrics.mean_absolute_error(y_test, y_pred_val_rf)\n",
    "    rmse_val_rf = np.sqrt(mean_squared_error(y_test, y_pred_val_rf))\n",
    "    r2_val_rf = r2_score(y_test, y_pred_val_rf)\n",
    "\n",
    "    val_metrics_rf = {'r2_score': r2_val_rf, 'mse': mse_val_rf, 'rmse': rmse_val_rf, 'mae': mae_val_rf}\n",
    "    mlflow.log_metrics(val_metrics_rf)\n",
    "    mlflow.sklearn.log_model(rf, \"Random Forest Regressor Model\")\n",
    "mlflow.end_run()"
   ]
  },
  {
   "cell_type": "markdown",
   "metadata": {},
   "source": [
    "# XG BOOST"
   ]
  },
  {
   "cell_type": "code",
   "execution_count": 92,
   "metadata": {},
   "outputs": [
    {
     "name": "stderr",
     "output_type": "stream",
     "text": [
      "c:\\Users\\Dell\\anaconda3\\Lib\\site-packages\\xgboost\\core.py:160: UserWarning: [01:33:12] WARNING: C:\\buildkite-agent\\builds\\buildkite-windows-cpu-autoscaling-group-i-0750514818a16474a-1\\xgboost\\xgboost-ci-windows\\src\\c_api\\c_api.cc:1240: Saving into deprecated binary model format, please consider using `json` or `ubj`. Model format will default to JSON in XGBoost 2.2 if not specified.\n",
      "  warnings.warn(smsg, UserWarning)\n",
      "c:\\Users\\Dell\\anaconda3\\Lib\\site-packages\\_distutils_hack\\__init__.py:18: UserWarning: Distutils was imported before Setuptools, but importing Setuptools also replaces the `distutils` module in `sys.modules`. This may lead to undesirable behaviors or errors. To avoid these issues, avoid using distutils directly, ensure that setuptools is installed in the traditional way (e.g. not an editable install), and/or make sure that setuptools is always imported before distutils.\n",
      "  warnings.warn(\n",
      "c:\\Users\\Dell\\anaconda3\\Lib\\site-packages\\_distutils_hack\\__init__.py:33: UserWarning: Setuptools is replacing distutils.\n",
      "  warnings.warn(\"Setuptools is replacing distutils.\")\n"
     ]
    }
   ],
   "source": [
    "with mlflow.start_run(run_name='XGBoost Regressor Model'):\n",
    "    # Define hyperparameters\n",
    "    xg_params = {\n",
    "        'objective': 'reg:squarederror',\n",
    "        'colsample_bytree': 0.3,\n",
    "        'learning_rate': 0.1,\n",
    "        'max_depth': 5,\n",
    "        'alpha': 10,\n",
    "        'n_estimators': 10\n",
    "    }\n",
    "    xg_reg = xgb.XGBRegressor(**xg_params) \n",
    "\n",
    "    xg_reg.fit(X_train, y_train)\n",
    "    y_pred_val_xgb = xg_reg.predict(X_test)\n",
    "\n",
    "    mse_val_xgb = mean_squared_error(y_test, y_pred_val_xgb)\n",
    "    mae_val_xgb = metrics.mean_absolute_error(y_test, y_pred_val_xgb)\n",
    "    rmse_val_xgb = np.sqrt(mean_squared_error(y_test, y_pred_val_xgb))\n",
    "    r2_val_xgb = r2_score(y_test, y_pred_val_xgb)\n",
    "\n",
    "    val_metrics_xgb = {'r2_score': r2_val_xgb, 'mse': mse_val_xgb, 'rmse': rmse_val_xgb, 'mae': mae_val_xgb}\n",
    "    mlflow.log_metrics(val_metrics_xgb)\n",
    "    mlflow.log_params(xg_params)\n",
    "  \n",
    "    mlflow.xgboost.log_model(xg_reg, \"XGBoost Regressor Model\")\n",
    "    \n",
    "mlflow.end_run()"
   ]
  },
  {
   "cell_type": "markdown",
   "metadata": {},
   "source": [
    "# Decision Tree"
   ]
  },
  {
   "cell_type": "code",
   "execution_count": 93,
   "metadata": {},
   "outputs": [
    {
     "name": "stderr",
     "output_type": "stream",
     "text": [
      "c:\\Users\\Dell\\anaconda3\\Lib\\site-packages\\_distutils_hack\\__init__.py:18: UserWarning: Distutils was imported before Setuptools, but importing Setuptools also replaces the `distutils` module in `sys.modules`. This may lead to undesirable behaviors or errors. To avoid these issues, avoid using distutils directly, ensure that setuptools is installed in the traditional way (e.g. not an editable install), and/or make sure that setuptools is always imported before distutils.\n",
      "  warnings.warn(\n",
      "c:\\Users\\Dell\\anaconda3\\Lib\\site-packages\\_distutils_hack\\__init__.py:33: UserWarning: Setuptools is replacing distutils.\n",
      "  warnings.warn(\"Setuptools is replacing distutils.\")\n"
     ]
    }
   ],
   "source": [
    "with mlflow.start_run(run_name='Decision Tree Model'):\n",
    "    dt_model = DecisionTreeRegressor()\n",
    "\n",
    "    dt_model.fit(X_train, y_train)\n",
    "    y_pred_val = dt_model.predict(X_test)\n",
    "\n",
    "\n",
    "    mse_val =mean_squared_error(y_test,y_pred_val)\n",
    "    mae_val=metrics.mean_absolute_error(y_test,y_pred_val)\n",
    "    rmse_val=np.sqrt(metrics.mean_absolute_error(y_test,y_pred_val))\n",
    "    r2_val =r2_score(y_test,y_pred_val)\n",
    "\n",
    "\n",
    "    val_metrics = {'r2_score': r2_val, 'mse':mse_val,'rmse':rmse_val,'mae':mae_val}\n",
    "    mlflow.log_metrics(val_metrics)\n",
    "    mlflow.sklearn.log_model(dt_model,\"Decision TreeRegressor model\")\n",
    "mlflow.end_run()"
   ]
  },
  {
   "cell_type": "markdown",
   "metadata": {},
   "source": [
    "# Performing Hypermater tuning on Random Analysis"
   ]
  },
  {
   "cell_type": "code",
   "execution_count": 94,
   "metadata": {},
   "outputs": [
    {
     "data": {
      "text/html": [
       "<div>\n",
       "<style scoped>\n",
       "    .dataframe tbody tr th:only-of-type {\n",
       "        vertical-align: middle;\n",
       "    }\n",
       "\n",
       "    .dataframe tbody tr th {\n",
       "        vertical-align: top;\n",
       "    }\n",
       "\n",
       "    .dataframe thead th {\n",
       "        text-align: right;\n",
       "    }\n",
       "</style>\n",
       "<table border=\"1\" class=\"dataframe\">\n",
       "  <thead>\n",
       "    <tr style=\"text-align: right;\">\n",
       "      <th></th>\n",
       "      <th>Predicted Price</th>\n",
       "      <th>Actual Price</th>\n",
       "    </tr>\n",
       "  </thead>\n",
       "  <tbody>\n",
       "    <tr>\n",
       "      <th>0</th>\n",
       "      <td>4364.225775</td>\n",
       "      <td>4310.67</td>\n",
       "    </tr>\n",
       "    <tr>\n",
       "      <th>1</th>\n",
       "      <td>1679.596100</td>\n",
       "      <td>1870.05</td>\n",
       "    </tr>\n",
       "    <tr>\n",
       "      <th>2</th>\n",
       "      <td>2431.993200</td>\n",
       "      <td>2511.60</td>\n",
       "    </tr>\n",
       "    <tr>\n",
       "      <th>3</th>\n",
       "      <td>1789.369855</td>\n",
       "      <td>1629.81</td>\n",
       "    </tr>\n",
       "    <tr>\n",
       "      <th>4</th>\n",
       "      <td>18320.987100</td>\n",
       "      <td>24182.34</td>\n",
       "    </tr>\n",
       "    <tr>\n",
       "      <th>...</th>\n",
       "      <td>...</td>\n",
       "      <td>...</td>\n",
       "    </tr>\n",
       "    <tr>\n",
       "      <th>453</th>\n",
       "      <td>2473.138265</td>\n",
       "      <td>2140.32</td>\n",
       "    </tr>\n",
       "    <tr>\n",
       "      <th>454</th>\n",
       "      <td>2288.075400</td>\n",
       "      <td>2921.10</td>\n",
       "    </tr>\n",
       "    <tr>\n",
       "      <th>455</th>\n",
       "      <td>9063.190500</td>\n",
       "      <td>8506.68</td>\n",
       "    </tr>\n",
       "    <tr>\n",
       "      <th>456</th>\n",
       "      <td>11337.874275</td>\n",
       "      <td>12538.89</td>\n",
       "    </tr>\n",
       "    <tr>\n",
       "      <th>457</th>\n",
       "      <td>4722.376750</td>\n",
       "      <td>4687.41</td>\n",
       "    </tr>\n",
       "  </tbody>\n",
       "</table>\n",
       "<p>458 rows × 2 columns</p>\n",
       "</div>"
      ],
      "text/plain": [
       "     Predicted Price  Actual Price\n",
       "0        4364.225775       4310.67\n",
       "1        1679.596100       1870.05\n",
       "2        2431.993200       2511.60\n",
       "3        1789.369855       1629.81\n",
       "4       18320.987100      24182.34\n",
       "..               ...           ...\n",
       "453      2473.138265       2140.32\n",
       "454      2288.075400       2921.10\n",
       "455      9063.190500       8506.68\n",
       "456     11337.874275      12538.89\n",
       "457      4722.376750       4687.41\n",
       "\n",
       "[458 rows x 2 columns]"
      ]
     },
     "execution_count": 94,
     "metadata": {},
     "output_type": "execute_result"
    }
   ],
   "source": [
    "test_df = pd.DataFrame({\n",
    "    \"Predicted Price\" : rf.predict(X_val),\n",
    "    \"Actual Price\" : y_val,\n",
    "}).reset_index(drop = True)\n",
    "test_df"
   ]
  },
  {
   "cell_type": "code",
   "execution_count": 95,
   "metadata": {},
   "outputs": [
    {
     "name": "stdout",
     "output_type": "stream",
     "text": [
      "Fitting 5 folds for each of 243 candidates, totalling 1215 fits\n"
     ]
    },
    {
     "name": "stderr",
     "output_type": "stream",
     "text": [
      "c:\\Users\\Dell\\anaconda3\\Lib\\site-packages\\sklearn\\model_selection\\_validation.py:425: FitFailedWarning: \n",
      "405 fits failed out of a total of 1215.\n",
      "The score on these train-test partitions for these parameters will be set to nan.\n",
      "If these failures are not expected, you can try to debug them by setting error_score='raise'.\n",
      "\n",
      "Below are more details about the failures:\n",
      "--------------------------------------------------------------------------------\n",
      "405 fits failed with the following error:\n",
      "Traceback (most recent call last):\n",
      "  File \"c:\\Users\\Dell\\anaconda3\\Lib\\site-packages\\sklearn\\model_selection\\_validation.py\", line 729, in _fit_and_score\n",
      "    estimator.fit(X_train, y_train, **fit_params)\n",
      "  File \"c:\\Users\\Dell\\anaconda3\\Lib\\site-packages\\sklearn\\base.py\", line 1145, in wrapper\n",
      "    estimator._validate_params()\n",
      "  File \"c:\\Users\\Dell\\anaconda3\\Lib\\site-packages\\sklearn\\base.py\", line 638, in _validate_params\n",
      "    validate_parameter_constraints(\n",
      "  File \"c:\\Users\\Dell\\anaconda3\\Lib\\site-packages\\sklearn\\utils\\_param_validation.py\", line 96, in validate_parameter_constraints\n",
      "    raise InvalidParameterError(\n",
      "sklearn.utils._param_validation.InvalidParameterError: The 'max_features' parameter of RandomForestRegressor must be an int in the range [1, inf), a float in the range (0.0, 1.0], a str among {'sqrt', 'log2'} or None. Got 'auto' instead.\n",
      "\n",
      "  warnings.warn(some_fits_failed_message, FitFailedWarning)\n",
      "c:\\Users\\Dell\\anaconda3\\Lib\\site-packages\\sklearn\\model_selection\\_search.py:979: UserWarning: One or more of the test scores are non-finite: [       nan        nan        nan        nan        nan        nan\n",
      "        nan        nan        nan        nan        nan        nan\n",
      "        nan        nan        nan        nan        nan        nan\n",
      "        nan        nan        nan        nan        nan        nan\n",
      "        nan        nan        nan 0.82711791 0.84497226 0.84613509\n",
      " 0.8294152  0.83325381 0.84223679 0.80638487 0.81877645 0.81789793\n",
      " 0.80780822 0.83307958 0.83300243 0.8091661  0.83196308 0.82922791\n",
      " 0.79879262 0.81390138 0.81297559 0.77849005 0.79955547 0.80042238\n",
      " 0.78008536 0.79156978 0.79960418 0.76645739 0.79465942 0.79462675\n",
      " 0.82763683 0.84228695 0.84308035 0.81777621 0.83738652 0.8397466\n",
      " 0.79497564 0.82130396 0.82033752 0.80593971 0.82526208 0.83243286\n",
      " 0.81934037 0.82877655 0.83082593 0.80617878 0.813542   0.81253687\n",
      " 0.77507197 0.79724955 0.79804977 0.78297143 0.7936437  0.79958928\n",
      " 0.78759168 0.79296595 0.79002407        nan        nan        nan\n",
      "        nan        nan        nan        nan        nan        nan\n",
      "        nan        nan        nan        nan        nan        nan\n",
      "        nan        nan        nan        nan        nan        nan\n",
      "        nan        nan        nan        nan        nan        nan\n",
      " 0.82180852 0.83943196 0.83786451 0.81700503 0.83086017 0.83238224\n",
      " 0.79509722 0.8158197  0.81097525 0.80412051 0.82072582 0.82131082\n",
      " 0.81254596 0.82200172 0.82075526 0.79222252 0.80215826 0.80573041\n",
      " 0.77175122 0.7929313  0.79181772 0.78196894 0.79038954 0.79228967\n",
      " 0.77792648 0.78554109 0.7878961  0.81751493 0.83324031 0.83940699\n",
      " 0.82207641 0.83322943 0.83205122 0.78931754 0.80943501 0.81605934\n",
      " 0.80911894 0.82005179 0.82229009 0.80917379 0.82340735 0.82238136\n",
      " 0.79379757 0.80337381 0.80679703 0.76530356 0.7939156  0.79003875\n",
      " 0.78959264 0.7948168  0.79319286 0.77615267 0.78706467 0.7922392\n",
      "        nan        nan        nan        nan        nan        nan\n",
      "        nan        nan        nan        nan        nan        nan\n",
      "        nan        nan        nan        nan        nan        nan\n",
      "        nan        nan        nan        nan        nan        nan\n",
      "        nan        nan        nan 0.82804472 0.84104084 0.84368724\n",
      " 0.81858224 0.84176407 0.84199477 0.79992277 0.81905049 0.82064241\n",
      " 0.81795213 0.83150723 0.83278266 0.80900023 0.82536624 0.83287175\n",
      " 0.79235606 0.81883473 0.81311336 0.78403408 0.79357365 0.79920988\n",
      " 0.78820892 0.7972891  0.79748799 0.7700747  0.79749734 0.79597104\n",
      " 0.82513582 0.84528257 0.84220395 0.81984194 0.84099457 0.84438808\n",
      " 0.81625899 0.8131669  0.82036201 0.79159629 0.83029525 0.83224362\n",
      " 0.81353455 0.83019576 0.82987283 0.80513505 0.81250609 0.81145516\n",
      " 0.78903523 0.80055619 0.79794623 0.7850477  0.79989984 0.79990071\n",
      " 0.78556035 0.79349234 0.79538084]\n",
      "  warnings.warn(\n"
     ]
    },
    {
     "name": "stdout",
     "output_type": "stream",
     "text": [
      "Meilleurs paramètres : {'max_depth': None, 'max_features': 'sqrt', 'min_samples_leaf': 1, 'min_samples_split': 2, 'n_estimators': 100}\n"
     ]
    }
   ],
   "source": [
    "from sklearn.model_selection import GridSearchCV\n",
    "from sklearn.ensemble import RandomForestRegressor\n",
    "\n",
    "param_grid = {\n",
    "    'n_estimators': [10, 50, 100],\n",
    "    'max_depth': [None, 10, 20],\n",
    "    'min_samples_split': [2, 5, 10],\n",
    "    'min_samples_leaf': [1, 2, 4],\n",
    "    'max_features': ['auto', 'sqrt', 'log2']\n",
    "}\n",
    "\n",
    "grid_search = GridSearchCV(estimator=RandomForestRegressor(), param_grid=param_grid, scoring='r2', cv=5, verbose=1)\n",
    "\n",
    "grid_search.fit(X_train, y_train)\n",
    "\n",
    "best_params = grid_search.best_params_\n",
    "\n",
    "print(\"Meilleurs paramètres :\", best_params)\n"
   ]
  },
  {
   "cell_type": "code",
   "execution_count": 96,
   "metadata": {},
   "outputs": [
    {
     "name": "stderr",
     "output_type": "stream",
     "text": [
      "c:\\Users\\Dell\\anaconda3\\Lib\\site-packages\\_distutils_hack\\__init__.py:18: UserWarning: Distutils was imported before Setuptools, but importing Setuptools also replaces the `distutils` module in `sys.modules`. This may lead to undesirable behaviors or errors. To avoid these issues, avoid using distutils directly, ensure that setuptools is installed in the traditional way (e.g. not an editable install), and/or make sure that setuptools is always imported before distutils.\n",
      "  warnings.warn(\n",
      "c:\\Users\\Dell\\anaconda3\\Lib\\site-packages\\_distutils_hack\\__init__.py:33: UserWarning: Setuptools is replacing distutils.\n",
      "  warnings.warn(\"Setuptools is replacing distutils.\")\n"
     ]
    }
   ],
   "source": [
    "with mlflow.start_run(run_name='Random Forest Regressor Model'):\n",
    "    rf_params={'max_depth': 100, 'max_features': 'log2', 'min_samples_leaf': 1, 'min_samples_split': 2, 'n_estimators': 300}\n",
    "    rf2 = RandomForestRegressor(**rf_params)\n",
    "    rf2.fit(X_train, y_train)\n",
    "    y_pred_val_rf = rf2.predict(X_test)\n",
    "\n",
    "    mse_val_rf = mean_squared_error(y_test, y_pred_val_rf)\n",
    "    mae_val_rf = metrics.mean_absolute_error(y_test, y_pred_val_rf)\n",
    "    rmse_val_rf = np.sqrt(mean_squared_error(y_test, y_pred_val_rf))\n",
    "    r2_val_rf = r2_score(y_test, y_pred_val_rf)\n",
    "\n",
    "    val_metrics_rf = {'r2_score': r2_val_rf, 'mse': mse_val_rf, 'rmse': rmse_val_rf, 'mae': mae_val_rf}\n",
    "    mlflow.log_metrics(val_metrics_rf)\n",
    "    mlflow.sklearn.log_model(rf, \"Random Forest Regressor Model\")\n",
    "mlflow.end_run()"
   ]
  },
  {
   "cell_type": "code",
   "execution_count": 97,
   "metadata": {},
   "outputs": [
    {
     "data": {
      "text/html": [
       "<div>\n",
       "<style scoped>\n",
       "    .dataframe tbody tr th:only-of-type {\n",
       "        vertical-align: middle;\n",
       "    }\n",
       "\n",
       "    .dataframe tbody tr th {\n",
       "        vertical-align: top;\n",
       "    }\n",
       "\n",
       "    .dataframe thead th {\n",
       "        text-align: right;\n",
       "    }\n",
       "</style>\n",
       "<table border=\"1\" class=\"dataframe\">\n",
       "  <thead>\n",
       "    <tr style=\"text-align: right;\">\n",
       "      <th></th>\n",
       "      <th>Predicted Price</th>\n",
       "      <th>Actual Price</th>\n",
       "    </tr>\n",
       "  </thead>\n",
       "  <tbody>\n",
       "    <tr>\n",
       "      <th>0</th>\n",
       "      <td>11743.978155</td>\n",
       "      <td>10540.53</td>\n",
       "    </tr>\n",
       "    <tr>\n",
       "      <th>1</th>\n",
       "      <td>2112.579560</td>\n",
       "      <td>1665.30</td>\n",
       "    </tr>\n",
       "    <tr>\n",
       "      <th>2</th>\n",
       "      <td>4649.590400</td>\n",
       "      <td>4657.38</td>\n",
       "    </tr>\n",
       "    <tr>\n",
       "      <th>3</th>\n",
       "      <td>7819.027125</td>\n",
       "      <td>8159.97</td>\n",
       "    </tr>\n",
       "    <tr>\n",
       "      <th>4</th>\n",
       "      <td>1938.441505</td>\n",
       "      <td>1583.40</td>\n",
       "    </tr>\n",
       "    <tr>\n",
       "      <th>...</th>\n",
       "      <td>...</td>\n",
       "      <td>...</td>\n",
       "    </tr>\n",
       "    <tr>\n",
       "      <th>453</th>\n",
       "      <td>7809.710545</td>\n",
       "      <td>7753.20</td>\n",
       "    </tr>\n",
       "    <tr>\n",
       "      <th>454</th>\n",
       "      <td>11286.475200</td>\n",
       "      <td>11438.70</td>\n",
       "    </tr>\n",
       "    <tr>\n",
       "      <th>455</th>\n",
       "      <td>5122.408200</td>\n",
       "      <td>5211.57</td>\n",
       "    </tr>\n",
       "    <tr>\n",
       "      <th>456</th>\n",
       "      <td>1441.374935</td>\n",
       "      <td>1984.71</td>\n",
       "    </tr>\n",
       "    <tr>\n",
       "      <th>457</th>\n",
       "      <td>1949.609025</td>\n",
       "      <td>3237.78</td>\n",
       "    </tr>\n",
       "  </tbody>\n",
       "</table>\n",
       "<p>458 rows × 2 columns</p>\n",
       "</div>"
      ],
      "text/plain": [
       "     Predicted Price  Actual Price\n",
       "0       11743.978155      10540.53\n",
       "1        2112.579560       1665.30\n",
       "2        4649.590400       4657.38\n",
       "3        7819.027125       8159.97\n",
       "4        1938.441505       1583.40\n",
       "..               ...           ...\n",
       "453      7809.710545       7753.20\n",
       "454     11286.475200      11438.70\n",
       "455      5122.408200       5211.57\n",
       "456      1441.374935       1984.71\n",
       "457      1949.609025       3237.78\n",
       "\n",
       "[458 rows x 2 columns]"
      ]
     },
     "execution_count": 97,
     "metadata": {},
     "output_type": "execute_result"
    }
   ],
   "source": [
    "test_df = pd.DataFrame({\n",
    "    \"Predicted Price\" : rf.predict(X_test),\n",
    "    \"Actual Price\" : y_test,\n",
    "}).reset_index(drop = True)\n",
    "test_df"
   ]
  },
  {
   "cell_type": "code",
   "execution_count": 98,
   "metadata": {},
   "outputs": [
    {
     "data": {
      "text/html": [
       "<div>\n",
       "<style scoped>\n",
       "    .dataframe tbody tr th:only-of-type {\n",
       "        vertical-align: middle;\n",
       "    }\n",
       "\n",
       "    .dataframe tbody tr th {\n",
       "        vertical-align: top;\n",
       "    }\n",
       "\n",
       "    .dataframe thead th {\n",
       "        text-align: right;\n",
       "    }\n",
       "</style>\n",
       "<table border=\"1\" class=\"dataframe\">\n",
       "  <thead>\n",
       "    <tr style=\"text-align: right;\">\n",
       "      <th></th>\n",
       "      <th>Predicted Price</th>\n",
       "      <th>Actual Price</th>\n",
       "    </tr>\n",
       "  </thead>\n",
       "  <tbody>\n",
       "    <tr>\n",
       "      <th>0</th>\n",
       "      <td>11505.446972</td>\n",
       "      <td>10540.53</td>\n",
       "    </tr>\n",
       "    <tr>\n",
       "      <th>1</th>\n",
       "      <td>2022.549165</td>\n",
       "      <td>1665.30</td>\n",
       "    </tr>\n",
       "    <tr>\n",
       "      <th>2</th>\n",
       "      <td>4648.494608</td>\n",
       "      <td>4657.38</td>\n",
       "    </tr>\n",
       "    <tr>\n",
       "      <th>3</th>\n",
       "      <td>7604.645382</td>\n",
       "      <td>8159.97</td>\n",
       "    </tr>\n",
       "    <tr>\n",
       "      <th>4</th>\n",
       "      <td>2038.272037</td>\n",
       "      <td>1583.40</td>\n",
       "    </tr>\n",
       "    <tr>\n",
       "      <th>...</th>\n",
       "      <td>...</td>\n",
       "      <td>...</td>\n",
       "    </tr>\n",
       "    <tr>\n",
       "      <th>453</th>\n",
       "      <td>7618.748193</td>\n",
       "      <td>7753.20</td>\n",
       "    </tr>\n",
       "    <tr>\n",
       "      <th>454</th>\n",
       "      <td>10940.302100</td>\n",
       "      <td>11438.70</td>\n",
       "    </tr>\n",
       "    <tr>\n",
       "      <th>455</th>\n",
       "      <td>5417.364983</td>\n",
       "      <td>5211.57</td>\n",
       "    </tr>\n",
       "    <tr>\n",
       "      <th>456</th>\n",
       "      <td>1781.039563</td>\n",
       "      <td>1984.71</td>\n",
       "    </tr>\n",
       "    <tr>\n",
       "      <th>457</th>\n",
       "      <td>2086.542033</td>\n",
       "      <td>3237.78</td>\n",
       "    </tr>\n",
       "  </tbody>\n",
       "</table>\n",
       "<p>458 rows × 2 columns</p>\n",
       "</div>"
      ],
      "text/plain": [
       "     Predicted Price  Actual Price\n",
       "0       11505.446972      10540.53\n",
       "1        2022.549165       1665.30\n",
       "2        4648.494608       4657.38\n",
       "3        7604.645382       8159.97\n",
       "4        2038.272037       1583.40\n",
       "..               ...           ...\n",
       "453      7618.748193       7753.20\n",
       "454     10940.302100      11438.70\n",
       "455      5417.364983       5211.57\n",
       "456      1781.039563       1984.71\n",
       "457      2086.542033       3237.78\n",
       "\n",
       "[458 rows x 2 columns]"
      ]
     },
     "execution_count": 98,
     "metadata": {},
     "output_type": "execute_result"
    }
   ],
   "source": [
    "test_df = pd.DataFrame({\n",
    "    \"Predicted Price\" : rf2.predict(X_test),\n",
    "    \"Actual Price\" : y_test,\n",
    "}).reset_index(drop = True)\n",
    "test_df"
   ]
  },
  {
   "cell_type": "markdown",
   "metadata": {},
   "source": [
    "##### Hyperparameter tuning didn't improve the model accuracy"
   ]
  }
 ],
 "metadata": {
  "kernelspec": {
   "display_name": "Python 3",
   "language": "python",
   "name": "python3"
  },
  "language_info": {
   "codemirror_mode": {
    "name": "ipython",
    "version": 3
   },
   "file_extension": ".py",
   "mimetype": "text/x-python",
   "name": "python",
   "nbconvert_exporter": "python",
   "pygments_lexer": "ipython3",
   "version": "3.11.6"
  }
 },
 "nbformat": 4,
 "nbformat_minor": 2
}
