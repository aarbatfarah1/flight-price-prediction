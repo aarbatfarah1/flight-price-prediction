{
 "cells": [
  {
   "cell_type": "code",
   "execution_count": 30,
   "metadata": {},
   "outputs": [],
   "source": [
    "import seaborn as sns\n",
    "import matplotlib.pyplot as plt\n",
    "import pandas as pd\n",
    "import numpy as np\n",
    "from sklearn.model_selection import train_test_split\n",
    "from sklearn.ensemble import RandomForestRegressor\n",
    "from sklearn.tree import DecisionTreeRegressor\n",
    "import xgboost as xgb\n",
    "from sklearn.model_selection import GridSearchCV\n",
    "from sklearn.metrics import make_scorer\n",
    "from sklearn import metrics\n",
    "import mlflow\n",
    "import mlflow.sklearn\n",
    "from sklearn.linear_model import LinearRegression\n",
    "from sklearn.metrics import mean_squared_error,r2_score"
   ]
  },
  {
   "cell_type": "markdown",
   "metadata": {},
   "source": [
    "#### Définition de nos variables cibles "
   ]
  },
  {
   "cell_type": "code",
   "execution_count": 19,
   "metadata": {},
   "outputs": [],
   "source": [
    "data = pd.read_csv(\"../data/flight_data.csv\")"
   ]
  },
  {
   "cell_type": "code",
   "execution_count": 20,
   "metadata": {},
   "outputs": [],
   "source": [
    "Y = data['Price']\n",
    "X = data.drop(['Price'], axis=1)"
   ]
  },
  {
   "cell_type": "markdown",
   "metadata": {},
   "source": [
    "#### Divisez les données en ensembles d’entraînement et de test"
   ]
  },
  {
   "cell_type": "code",
   "execution_count": 21,
   "metadata": {},
   "outputs": [],
   "source": [
    "X_train_or, X_test, y_train_or, y_test = train_test_split(X,Y, test_size=0.2)\n",
    "X_train, X_val, y_train, y_val = train_test_split(X_train_or, y_train_or, test_size=0.25)"
   ]
  },
  {
   "cell_type": "code",
   "execution_count": 58,
   "metadata": {},
   "outputs": [],
   "source": [
    "X_train, X_test, y_train, y_test = train_test_split(X,Y, test_size=0.3,random_state=70)"
   ]
  },
  {
   "cell_type": "markdown",
   "metadata": {},
   "source": [
    "# Set MLflow"
   ]
  },
  {
   "cell_type": "code",
   "execution_count": 22,
   "metadata": {},
   "outputs": [
    {
     "name": "stderr",
     "output_type": "stream",
     "text": [
      "2023/12/29 20:42:24 INFO mlflow.tracking.fluent: Experiment with name 'Flight price prediction tracking' does not exist. Creating a new experiment.\n"
     ]
    },
    {
     "data": {
      "text/plain": [
       "<Experiment: artifact_location='mlflow-artifacts:/207908173545636087', creation_time=1703878944463, experiment_id='207908173545636087', last_update_time=1703878944463, lifecycle_stage='active', name='Flight price prediction tracking', tags={}>"
      ]
     },
     "execution_count": 22,
     "metadata": {},
     "output_type": "execute_result"
    }
   ],
   "source": [
    "mlflow.set_tracking_uri(\"sqlite:///mlflowtest.db\")\n",
    "mlflow.set_tracking_uri(\"http://localhost:5000\")\n",
    "mlflow.set_experiment(\"Flight price prediction tracking\")"
   ]
  },
  {
   "cell_type": "code",
   "execution_count": 23,
   "metadata": {},
   "outputs": [],
   "source": [
    "mlflow.end_run()"
   ]
  },
  {
   "cell_type": "code",
   "execution_count": 24,
   "metadata": {},
   "outputs": [
    {
     "data": {
      "text/plain": [
       "42"
      ]
     },
     "execution_count": 24,
     "metadata": {},
     "output_type": "execute_result"
    }
   ],
   "source": [
    "mlflow.start_run()\n",
    "mlflow.log_param(\"test_size\", 0.2)\n",
    "mlflow.log_param(\"random_state\", 42)"
   ]
  },
  {
   "cell_type": "markdown",
   "metadata": {},
   "source": [
    "# Linear Regression"
   ]
  },
  {
   "cell_type": "code",
   "execution_count": 25,
   "metadata": {},
   "outputs": [],
   "source": [
    "mlflow.end_run()"
   ]
  },
  {
   "cell_type": "code",
   "execution_count": 26,
   "metadata": {},
   "outputs": [
    {
     "name": "stderr",
     "output_type": "stream",
     "text": [
      "c:\\Users\\Dell\\anaconda3\\Lib\\site-packages\\_distutils_hack\\__init__.py:18: UserWarning: Distutils was imported before Setuptools, but importing Setuptools also replaces the `distutils` module in `sys.modules`. This may lead to undesirable behaviors or errors. To avoid these issues, avoid using distutils directly, ensure that setuptools is installed in the traditional way (e.g. not an editable install), and/or make sure that setuptools is always imported before distutils.\n",
      "  warnings.warn(\n",
      "c:\\Users\\Dell\\anaconda3\\Lib\\site-packages\\_distutils_hack\\__init__.py:33: UserWarning: Setuptools is replacing distutils.\n",
      "  warnings.warn(\"Setuptools is replacing distutils.\")\n"
     ]
    }
   ],
   "source": [
    "with mlflow.start_run(run_name='Linear regression model'):\n",
    "    reg_model=LinearRegression().fit(X_train,y_train)\n",
    "    y_pred_val =reg_model.predict(X_val)\n",
    "\n",
    "    mse_val =mean_squared_error(y_val,y_pred_val)\n",
    "    mae_val=metrics.mean_absolute_error(y_val,y_pred_val)\n",
    "    rmse_val=np.sqrt(metrics.mean_absolute_error(y_val,y_pred_val))\n",
    "    r2_val =r2_score(y_test,y_pred_val)\n",
    "    \n",
    "    val_metrics = {'r2_score': r2_val, 'mse':mse_val,'rmse':rmse_val,'mae':mae_val}\n",
    "    mlflow.log_metrics(val_metrics)\n",
    "    mlflow.sklearn.log_model(reg_model,\"Linear regression model\")\n",
    "mlflow.end_run()\n",
    "    "
   ]
  },
  {
   "cell_type": "markdown",
   "metadata": {},
   "source": [
    "# Random Forest"
   ]
  },
  {
   "cell_type": "code",
   "execution_count": 59,
   "metadata": {},
   "outputs": [
    {
     "name": "stderr",
     "output_type": "stream",
     "text": [
      "c:\\Users\\Dell\\anaconda3\\Lib\\site-packages\\_distutils_hack\\__init__.py:18: UserWarning: Distutils was imported before Setuptools, but importing Setuptools also replaces the `distutils` module in `sys.modules`. This may lead to undesirable behaviors or errors. To avoid these issues, avoid using distutils directly, ensure that setuptools is installed in the traditional way (e.g. not an editable install), and/or make sure that setuptools is always imported before distutils.\n",
      "  warnings.warn(\n",
      "c:\\Users\\Dell\\anaconda3\\Lib\\site-packages\\_distutils_hack\\__init__.py:33: UserWarning: Setuptools is replacing distutils.\n",
      "  warnings.warn(\"Setuptools is replacing distutils.\")\n"
     ]
    }
   ],
   "source": [
    "with mlflow.start_run(run_name='Random Forest Regressor Model'):\n",
    "    rf = RandomForestRegressor()\n",
    "    rf.fit(X_train, y_train)\n",
    "    y_pred_val_rf = rf.predict(X_val)\n",
    "\n",
    "    mse_val_rf = mean_squared_error(y_val, y_pred_val_rf)\n",
    "    mae_val_rf = metrics.mean_absolute_error(y_val, y_pred_val_rf)\n",
    "    rmse_val_rf = np.sqrt(mean_squared_error(y_val, y_pred_val_rf))\n",
    "    r2_val_rf = r2_score(y_val, y_pred_val_rf)\n",
    "\n",
    "    val_metrics_rf = {'r2_score': r2_val_rf, 'mse': mse_val_rf, 'rmse': rmse_val_rf, 'mae': mae_val_rf}\n",
    "    mlflow.log_metrics(val_metrics_rf)\n",
    "    mlflow.sklearn.log_model(rf, \"Random Forest Regressor Model\")\n",
    "mlflow.end_run()"
   ]
  },
  {
   "cell_type": "markdown",
   "metadata": {},
   "source": [
    "# XG BOOST"
   ]
  },
  {
   "cell_type": "code",
   "execution_count": 41,
   "metadata": {},
   "outputs": [
    {
     "name": "stdout",
     "output_type": "stream",
     "text": [
      "Fitting 5 folds for each of 243 candidates, totalling 1215 fits\n"
     ]
    },
    {
     "name": "stderr",
     "output_type": "stream",
     "text": [
      "c:\\Users\\Dell\\anaconda3\\Lib\\site-packages\\sklearn\\model_selection\\_validation.py:425: FitFailedWarning: \n",
      "405 fits failed out of a total of 1215.\n",
      "The score on these train-test partitions for these parameters will be set to nan.\n",
      "If these failures are not expected, you can try to debug them by setting error_score='raise'.\n",
      "\n",
      "Below are more details about the failures:\n",
      "--------------------------------------------------------------------------------\n",
      "405 fits failed with the following error:\n",
      "Traceback (most recent call last):\n",
      "  File \"c:\\Users\\Dell\\anaconda3\\Lib\\site-packages\\sklearn\\model_selection\\_validation.py\", line 729, in _fit_and_score\n",
      "    estimator.fit(X_train, y_train, **fit_params)\n",
      "  File \"c:\\Users\\Dell\\anaconda3\\Lib\\site-packages\\sklearn\\base.py\", line 1145, in wrapper\n",
      "    estimator._validate_params()\n",
      "  File \"c:\\Users\\Dell\\anaconda3\\Lib\\site-packages\\sklearn\\base.py\", line 638, in _validate_params\n",
      "    validate_parameter_constraints(\n",
      "  File \"c:\\Users\\Dell\\anaconda3\\Lib\\site-packages\\sklearn\\utils\\_param_validation.py\", line 96, in validate_parameter_constraints\n",
      "    raise InvalidParameterError(\n",
      "sklearn.utils._param_validation.InvalidParameterError: The 'max_features' parameter of RandomForestRegressor must be an int in the range [1, inf), a float in the range (0.0, 1.0], a str among {'sqrt', 'log2'} or None. Got 'auto' instead.\n",
      "\n",
      "  warnings.warn(some_fits_failed_message, FitFailedWarning)\n",
      "c:\\Users\\Dell\\anaconda3\\Lib\\site-packages\\sklearn\\model_selection\\_search.py:979: UserWarning: One or more of the test scores are non-finite: [       nan        nan        nan        nan        nan        nan\n",
      "        nan        nan        nan        nan        nan        nan\n",
      "        nan        nan        nan        nan        nan        nan\n",
      "        nan        nan        nan        nan        nan        nan\n",
      "        nan        nan        nan 0.79769915 0.82572766 0.82271371\n",
      " 0.79231297 0.81835822 0.8202591  0.77038324 0.79250714 0.79686957\n",
      " 0.77176611 0.80489507 0.80983234 0.77322499 0.80345967 0.80684874\n",
      " 0.75841604 0.78108354 0.78704566 0.74841484 0.76956886 0.76865984\n",
      " 0.75933591 0.77196083 0.76743315 0.74382953 0.7589841  0.76416742\n",
      " 0.80801046 0.820211   0.82267493 0.79654982 0.81915207 0.81494068\n",
      " 0.7763684  0.79289418 0.79664026 0.7965142  0.80585783 0.80733291\n",
      " 0.78231135 0.80804463 0.80472496 0.76936449 0.78695357 0.77922673\n",
      " 0.76729745 0.7713631  0.76643203 0.76398559 0.77059796 0.76884647\n",
      " 0.74274984 0.76031161 0.76878467        nan        nan        nan\n",
      "        nan        nan        nan        nan        nan        nan\n",
      "        nan        nan        nan        nan        nan        nan\n",
      "        nan        nan        nan        nan        nan        nan\n",
      "        nan        nan        nan        nan        nan        nan\n",
      " 0.80080718 0.81482083 0.81870924 0.79485907 0.80023428 0.81399297\n",
      " 0.76743632 0.78603757 0.78666939 0.7862044  0.79986853 0.80273133\n",
      " 0.77626685 0.79955592 0.80012625 0.76011413 0.78147253 0.77842704\n",
      " 0.74731526 0.76284217 0.76503633 0.74727399 0.75726469 0.7704541\n",
      " 0.73313982 0.75977951 0.76491156 0.8091014  0.81517478 0.82019953\n",
      " 0.79209833 0.80677886 0.80745329 0.7748092  0.7893769  0.78757666\n",
      " 0.79972841 0.80303986 0.80359287 0.77922187 0.79300422 0.79953442\n",
      " 0.77156383 0.77851721 0.7757638  0.76996563 0.76409228 0.76962342\n",
      " 0.75148146 0.76467914 0.76754807 0.74804902 0.75704475 0.76782392\n",
      "        nan        nan        nan        nan        nan        nan\n",
      "        nan        nan        nan        nan        nan        nan\n",
      "        nan        nan        nan        nan        nan        nan\n",
      "        nan        nan        nan        nan        nan        nan\n",
      "        nan        nan        nan 0.80362734 0.82796764 0.8265165\n",
      " 0.80332267 0.80965753 0.81762821 0.77708143 0.79701432 0.79587068\n",
      " 0.78875939 0.80746196 0.80810886 0.77273229 0.8014425  0.80786925\n",
      " 0.76888421 0.78228409 0.78672459 0.75559173 0.76669547 0.76853496\n",
      " 0.74717364 0.76633078 0.77161417 0.76131219 0.76301778 0.76709798\n",
      " 0.811118   0.82131069 0.82358308 0.79043016 0.81555713 0.81804874\n",
      " 0.77457953 0.79059014 0.79387061 0.78099854 0.80503581 0.80881798\n",
      " 0.78396848 0.80761814 0.805544   0.77269301 0.77882408 0.79147947\n",
      " 0.74252755 0.77183262 0.76652425 0.72134965 0.76771473 0.77236024\n",
      " 0.7652841  0.76828235 0.7673936 ]\n",
      "  warnings.warn(\n"
     ]
    },
    {
     "name": "stdout",
     "output_type": "stream",
     "text": [
      "Meilleurs paramètres : {'max_depth': 20, 'max_features': 'sqrt', 'min_samples_leaf': 1, 'min_samples_split': 2, 'n_estimators': 50}\n"
     ]
    }
   ],
   "source": [
    "with mlflow.start_run(run_name='XGBoost Regressor Model'):\n",
    "    # Define hyperparameters\n",
    "    xg_params = {\n",
    "        'objective': 'reg:squarederror',\n",
    "        'colsample_bytree': 0.3,\n",
    "        'learning_rate': 0.1,\n",
    "        'max_depth': 5,\n",
    "        'alpha': 10,\n",
    "        'n_estimators': 10\n",
    "    }\n",
    "    xg_reg = xgb.XGBRegressor(**xg_params) \n",
    "\n",
    "    xg_reg.fit(X_train, y_train)\n",
    "    y_pred_val_xgb = xg_reg.predict(X_val)\n",
    "\n",
    "    mse_val_xgb = mean_squared_error(y_val, y_pred_val_xgb)\n",
    "    mae_val_xgb = metrics.mean_absolute_error(y_val, y_pred_val_xgb)\n",
    "    rmse_val_xgb = np.sqrt(mean_squared_error(y_val, y_pred_val_xgb))\n",
    "    r2_val_xgb = r2_score(y_val, y_pred_val_xgb)\n",
    "\n",
    "    val_metrics_xgb = {'r2_score': r2_val_xgb, 'mse': mse_val_xgb, 'rmse': rmse_val_xgb, 'mae': mae_val_xgb}\n",
    "    mlflow.log_metrics(val_metrics_xgb)\n",
    "    mlflow.log_params(xg_params)\n",
    "  \n",
    "    mlflow.xgboost.log_model(xg_reg, \"XGBoost Regressor Model\")\n",
    "    \n",
    "mlflow.end_run()"
   ]
  },
  {
   "cell_type": "markdown",
   "metadata": {},
   "source": [
    "# Decision Tree"
   ]
  },
  {
   "cell_type": "code",
   "execution_count": 29,
   "metadata": {},
   "outputs": [
    {
     "name": "stderr",
     "output_type": "stream",
     "text": [
      "c:\\Users\\Dell\\anaconda3\\Lib\\site-packages\\_distutils_hack\\__init__.py:18: UserWarning: Distutils was imported before Setuptools, but importing Setuptools also replaces the `distutils` module in `sys.modules`. This may lead to undesirable behaviors or errors. To avoid these issues, avoid using distutils directly, ensure that setuptools is installed in the traditional way (e.g. not an editable install), and/or make sure that setuptools is always imported before distutils.\n",
      "  warnings.warn(\n",
      "c:\\Users\\Dell\\anaconda3\\Lib\\site-packages\\_distutils_hack\\__init__.py:33: UserWarning: Setuptools is replacing distutils.\n",
      "  warnings.warn(\"Setuptools is replacing distutils.\")\n"
     ]
    }
   ],
   "source": [
    "with mlflow.start_run(run_name='Decision Tree Model'):\n",
    "    dt_model = DecisionTreeRegressor()\n",
    "\n",
    "    dt_model.fit(X_val, y_val)\n",
    "    y_pred_val = dt_model.predict(X_val)\n",
    "\n",
    "\n",
    "    mse_val =mean_squared_error(y_val,y_pred_val)\n",
    "    mae_val=metrics.mean_absolute_error(y_val,y_pred_val)\n",
    "    rmse_val=np.sqrt(metrics.mean_absolute_error(y_val,y_pred_val))\n",
    "    r2_val =r2_score(y_test,y_pred_val)\n",
    "\n",
    "\n",
    "    val_metrics = {'r2_score': r2_val, 'mse':mse_val,'rmse':rmse_val,'mae':mae_val}\n",
    "    mlflow.log_metrics(val_metrics)\n",
    "    mlflow.sklearn.log_model(dt_model,\"Decision TreeRegressor model\")\n",
    "mlflow.end_run()"
   ]
  },
  {
   "cell_type": "markdown",
   "metadata": {},
   "source": [
    "# Performing Hypermater tuning on Random Analysis"
   ]
  },
  {
   "cell_type": "code",
   "execution_count": 61,
   "metadata": {},
   "outputs": [
    {
     "data": {
      "text/html": [
       "<div>\n",
       "<style scoped>\n",
       "    .dataframe tbody tr th:only-of-type {\n",
       "        vertical-align: middle;\n",
       "    }\n",
       "\n",
       "    .dataframe tbody tr th {\n",
       "        vertical-align: top;\n",
       "    }\n",
       "\n",
       "    .dataframe thead th {\n",
       "        text-align: right;\n",
       "    }\n",
       "</style>\n",
       "<table border=\"1\" class=\"dataframe\">\n",
       "  <thead>\n",
       "    <tr style=\"text-align: right;\">\n",
       "      <th></th>\n",
       "      <th>Predicted Price</th>\n",
       "      <th>Actual Price</th>\n",
       "    </tr>\n",
       "  </thead>\n",
       "  <tbody>\n",
       "    <tr>\n",
       "      <th>0</th>\n",
       "      <td>3257.028385</td>\n",
       "      <td>3245.97</td>\n",
       "    </tr>\n",
       "    <tr>\n",
       "      <th>1</th>\n",
       "      <td>2541.536270</td>\n",
       "      <td>2869.23</td>\n",
       "    </tr>\n",
       "    <tr>\n",
       "      <th>2</th>\n",
       "      <td>1200.434463</td>\n",
       "      <td>797.16</td>\n",
       "    </tr>\n",
       "    <tr>\n",
       "      <th>3</th>\n",
       "      <td>7810.489050</td>\n",
       "      <td>6934.20</td>\n",
       "    </tr>\n",
       "    <tr>\n",
       "      <th>4</th>\n",
       "      <td>4366.798800</td>\n",
       "      <td>4365.27</td>\n",
       "    </tr>\n",
       "    <tr>\n",
       "      <th>...</th>\n",
       "      <td>...</td>\n",
       "      <td>...</td>\n",
       "    </tr>\n",
       "    <tr>\n",
       "      <th>453</th>\n",
       "      <td>6424.991300</td>\n",
       "      <td>7589.40</td>\n",
       "    </tr>\n",
       "    <tr>\n",
       "      <th>454</th>\n",
       "      <td>4123.583100</td>\n",
       "      <td>3985.80</td>\n",
       "    </tr>\n",
       "    <tr>\n",
       "      <th>455</th>\n",
       "      <td>1336.034700</td>\n",
       "      <td>1228.50</td>\n",
       "    </tr>\n",
       "    <tr>\n",
       "      <th>456</th>\n",
       "      <td>11076.565500</td>\n",
       "      <td>10622.43</td>\n",
       "    </tr>\n",
       "    <tr>\n",
       "      <th>457</th>\n",
       "      <td>1966.410810</td>\n",
       "      <td>1471.47</td>\n",
       "    </tr>\n",
       "  </tbody>\n",
       "</table>\n",
       "<p>458 rows × 2 columns</p>\n",
       "</div>"
      ],
      "text/plain": [
       "     Predicted Price  Actual Price\n",
       "0        3257.028385       3245.97\n",
       "1        2541.536270       2869.23\n",
       "2        1200.434463        797.16\n",
       "3        7810.489050       6934.20\n",
       "4        4366.798800       4365.27\n",
       "..               ...           ...\n",
       "453      6424.991300       7589.40\n",
       "454      4123.583100       3985.80\n",
       "455      1336.034700       1228.50\n",
       "456     11076.565500      10622.43\n",
       "457      1966.410810       1471.47\n",
       "\n",
       "[458 rows x 2 columns]"
      ]
     },
     "execution_count": 61,
     "metadata": {},
     "output_type": "execute_result"
    }
   ],
   "source": [
    "test_df = pd.DataFrame({\n",
    "    \"Predicted Price\" : rf.predict(X_val),\n",
    "    \"Actual Price\" : y_val,\n",
    "}).reset_index(drop = True)\n",
    "test_df"
   ]
  },
  {
   "cell_type": "code",
   "execution_count": 62,
   "metadata": {},
   "outputs": [
    {
     "name": "stdout",
     "output_type": "stream",
     "text": [
      "Fitting 5 folds for each of 243 candidates, totalling 1215 fits\n"
     ]
    },
    {
     "name": "stderr",
     "output_type": "stream",
     "text": [
      "c:\\Users\\Dell\\anaconda3\\Lib\\site-packages\\sklearn\\model_selection\\_validation.py:425: FitFailedWarning: \n",
      "405 fits failed out of a total of 1215.\n",
      "The score on these train-test partitions for these parameters will be set to nan.\n",
      "If these failures are not expected, you can try to debug them by setting error_score='raise'.\n",
      "\n",
      "Below are more details about the failures:\n",
      "--------------------------------------------------------------------------------\n",
      "405 fits failed with the following error:\n",
      "Traceback (most recent call last):\n",
      "  File \"c:\\Users\\Dell\\anaconda3\\Lib\\site-packages\\sklearn\\model_selection\\_validation.py\", line 729, in _fit_and_score\n",
      "    estimator.fit(X_train, y_train, **fit_params)\n",
      "  File \"c:\\Users\\Dell\\anaconda3\\Lib\\site-packages\\sklearn\\base.py\", line 1145, in wrapper\n",
      "    estimator._validate_params()\n",
      "  File \"c:\\Users\\Dell\\anaconda3\\Lib\\site-packages\\sklearn\\base.py\", line 638, in _validate_params\n",
      "    validate_parameter_constraints(\n",
      "  File \"c:\\Users\\Dell\\anaconda3\\Lib\\site-packages\\sklearn\\utils\\_param_validation.py\", line 96, in validate_parameter_constraints\n",
      "    raise InvalidParameterError(\n",
      "sklearn.utils._param_validation.InvalidParameterError: The 'max_features' parameter of RandomForestRegressor must be an int in the range [1, inf), a float in the range (0.0, 1.0], a str among {'sqrt', 'log2'} or None. Got 'auto' instead.\n",
      "\n",
      "  warnings.warn(some_fits_failed_message, FitFailedWarning)\n",
      "c:\\Users\\Dell\\anaconda3\\Lib\\site-packages\\sklearn\\model_selection\\_search.py:979: UserWarning: One or more of the test scores are non-finite: [       nan        nan        nan        nan        nan        nan\n",
      "        nan        nan        nan        nan        nan        nan\n",
      "        nan        nan        nan        nan        nan        nan\n",
      "        nan        nan        nan        nan        nan        nan\n",
      "        nan        nan        nan 0.8168286  0.83660534 0.83696613\n",
      " 0.81823084 0.83338731 0.83488075 0.79745238 0.81017359 0.80631936\n",
      " 0.79441227 0.82040016 0.82648875 0.80479839 0.81861653 0.82132301\n",
      " 0.7911129  0.80173935 0.80296364 0.72815646 0.78000016 0.78661141\n",
      " 0.75254808 0.78591928 0.78281008 0.76964067 0.78732462 0.78494252\n",
      " 0.8179585  0.8315949  0.83774144 0.81784407 0.83144679 0.83370982\n",
      " 0.79278873 0.8106247  0.80676828 0.80795933 0.82523974 0.82041565\n",
      " 0.80478449 0.81981652 0.82211097 0.7810511  0.80260572 0.81034204\n",
      " 0.76935408 0.7792561  0.78961646 0.75926829 0.7866741  0.78537219\n",
      " 0.75580522 0.78400032 0.78354323        nan        nan        nan\n",
      "        nan        nan        nan        nan        nan        nan\n",
      "        nan        nan        nan        nan        nan        nan\n",
      "        nan        nan        nan        nan        nan        nan\n",
      "        nan        nan        nan        nan        nan        nan\n",
      " 0.80412789 0.83008214 0.83385801 0.79941909 0.82633404 0.82472712\n",
      " 0.79512961 0.79619198 0.80884126 0.80409422 0.80785283 0.81558769\n",
      " 0.79418129 0.81021151 0.81681579 0.77198636 0.79836988 0.80152994\n",
      " 0.76741293 0.77801416 0.78093272 0.75522037 0.77400753 0.78515904\n",
      " 0.75064403 0.77857633 0.78565328 0.80450792 0.83217551 0.83319452\n",
      " 0.80264137 0.82143978 0.82509009 0.78497235 0.80450965 0.80346046\n",
      " 0.78991042 0.81262448 0.81594065 0.79621483 0.81257683 0.8131329\n",
      " 0.78206933 0.79366309 0.79966288 0.76200287 0.77642293 0.78284318\n",
      " 0.7668596  0.78061642 0.78098283 0.76829479 0.77932179 0.78041324\n",
      "        nan        nan        nan        nan        nan        nan\n",
      "        nan        nan        nan        nan        nan        nan\n",
      "        nan        nan        nan        nan        nan        nan\n",
      "        nan        nan        nan        nan        nan        nan\n",
      "        nan        nan        nan 0.80867617 0.83318534 0.83528625\n",
      " 0.80931064 0.83144029 0.83130954 0.78314218 0.8086812  0.81433609\n",
      " 0.79728431 0.82641927 0.82381887 0.79855149 0.81828898 0.82466235\n",
      " 0.79701529 0.7988181  0.80527276 0.75761786 0.79210511 0.78483811\n",
      " 0.76423174 0.78915205 0.788125   0.77226444 0.7817807  0.78500768\n",
      " 0.81112472 0.83595548 0.8394185  0.81737325 0.83171022 0.83659759\n",
      " 0.79746696 0.81077211 0.80837013 0.80644926 0.81611182 0.82392249\n",
      " 0.80845385 0.81809566 0.82325416 0.79742658 0.80075244 0.80366287\n",
      " 0.7703707  0.78297502 0.79019002 0.75674354 0.78356333 0.78513678\n",
      " 0.77301471 0.77948952 0.78183244]\n",
      "  warnings.warn(\n"
     ]
    },
    {
     "name": "stdout",
     "output_type": "stream",
     "text": [
      "Meilleurs paramètres : {'max_depth': 20, 'max_features': 'log2', 'min_samples_leaf': 1, 'min_samples_split': 2, 'n_estimators': 100}\n"
     ]
    }
   ],
   "source": [
    "from sklearn.model_selection import GridSearchCV\n",
    "from sklearn.ensemble import RandomForestRegressor\n",
    "\n",
    "# Définition du paramètre grid\n",
    "param_grid = {\n",
    "    'n_estimators': [10, 50, 100],\n",
    "    'max_depth': [None, 10, 20],\n",
    "    'min_samples_split': [2, 5, 10],\n",
    "    'min_samples_leaf': [1, 2, 4],\n",
    "    'max_features': ['auto', 'sqrt', 'log2']\n",
    "}\n",
    "\n",
    "# Création de l'objet GridSearchCV\n",
    "grid_search = GridSearchCV(estimator=RandomForestRegressor(), param_grid=param_grid, scoring='r2', cv=5, verbose=1)\n",
    "\n",
    "# Ajustement du modèle aux données\n",
    "grid_search.fit(X_train, y_train)\n",
    "\n",
    "# Obtention des meilleurs paramètres\n",
    "best_params = grid_search.best_params_\n",
    "\n",
    "# Affichage des meilleurs paramètres\n",
    "print(\"Meilleurs paramètres :\", best_params)\n"
   ]
  },
  {
   "cell_type": "code",
   "execution_count": 63,
   "metadata": {},
   "outputs": [
    {
     "name": "stderr",
     "output_type": "stream",
     "text": [
      "c:\\Users\\Dell\\anaconda3\\Lib\\site-packages\\_distutils_hack\\__init__.py:18: UserWarning: Distutils was imported before Setuptools, but importing Setuptools also replaces the `distutils` module in `sys.modules`. This may lead to undesirable behaviors or errors. To avoid these issues, avoid using distutils directly, ensure that setuptools is installed in the traditional way (e.g. not an editable install), and/or make sure that setuptools is always imported before distutils.\n",
      "  warnings.warn(\n",
      "c:\\Users\\Dell\\anaconda3\\Lib\\site-packages\\_distutils_hack\\__init__.py:33: UserWarning: Setuptools is replacing distutils.\n",
      "  warnings.warn(\"Setuptools is replacing distutils.\")\n"
     ]
    }
   ],
   "source": [
    "with mlflow.start_run(run_name='Random Forest Regressor Model'):\n",
    "    rf_params={'max_depth': 20, 'max_features': 'log2', 'min_samples_leaf': 1, 'min_samples_split': 2, 'n_estimators': 100}\n",
    "    rf = RandomForestRegressor(**rf_params)\n",
    "    rf.fit(X_train, y_train)\n",
    "    y_pred_val_rf = rf.predict(X_val)\n",
    "\n",
    "    mse_val_rf = mean_squared_error(y_val, y_pred_val_rf)\n",
    "    mae_val_rf = metrics.mean_absolute_error(y_val, y_pred_val_rf)\n",
    "    rmse_val_rf = np.sqrt(mean_squared_error(y_val, y_pred_val_rf))\n",
    "    r2_val_rf = r2_score(y_val, y_pred_val_rf)\n",
    "\n",
    "    val_metrics_rf = {'r2_score': r2_val_rf, 'mse': mse_val_rf, 'rmse': rmse_val_rf, 'mae': mae_val_rf}\n",
    "    mlflow.log_metrics(val_metrics_rf)\n",
    "    mlflow.sklearn.log_model(rf, \"Random Forest Regressor Model\")\n",
    "mlflow.end_run()"
   ]
  },
  {
   "cell_type": "code",
   "execution_count": 64,
   "metadata": {},
   "outputs": [
    {
     "data": {
      "text/html": [
       "<div>\n",
       "<style scoped>\n",
       "    .dataframe tbody tr th:only-of-type {\n",
       "        vertical-align: middle;\n",
       "    }\n",
       "\n",
       "    .dataframe tbody tr th {\n",
       "        vertical-align: top;\n",
       "    }\n",
       "\n",
       "    .dataframe thead th {\n",
       "        text-align: right;\n",
       "    }\n",
       "</style>\n",
       "<table border=\"1\" class=\"dataframe\">\n",
       "  <thead>\n",
       "    <tr style=\"text-align: right;\">\n",
       "      <th></th>\n",
       "      <th>Predicted Price</th>\n",
       "      <th>Actual Price</th>\n",
       "    </tr>\n",
       "  </thead>\n",
       "  <tbody>\n",
       "    <tr>\n",
       "      <th>0</th>\n",
       "      <td>3364.780055</td>\n",
       "      <td>3245.97</td>\n",
       "    </tr>\n",
       "    <tr>\n",
       "      <th>1</th>\n",
       "      <td>2801.744400</td>\n",
       "      <td>2869.23</td>\n",
       "    </tr>\n",
       "    <tr>\n",
       "      <th>2</th>\n",
       "      <td>1191.346975</td>\n",
       "      <td>797.16</td>\n",
       "    </tr>\n",
       "    <tr>\n",
       "      <th>3</th>\n",
       "      <td>7226.928800</td>\n",
       "      <td>6934.20</td>\n",
       "    </tr>\n",
       "    <tr>\n",
       "      <th>4</th>\n",
       "      <td>4465.429150</td>\n",
       "      <td>4365.27</td>\n",
       "    </tr>\n",
       "    <tr>\n",
       "      <th>...</th>\n",
       "      <td>...</td>\n",
       "      <td>...</td>\n",
       "    </tr>\n",
       "    <tr>\n",
       "      <th>453</th>\n",
       "      <td>6094.464740</td>\n",
       "      <td>7589.40</td>\n",
       "    </tr>\n",
       "    <tr>\n",
       "      <th>454</th>\n",
       "      <td>4366.896625</td>\n",
       "      <td>3985.80</td>\n",
       "    </tr>\n",
       "    <tr>\n",
       "      <th>455</th>\n",
       "      <td>1390.443600</td>\n",
       "      <td>1228.50</td>\n",
       "    </tr>\n",
       "    <tr>\n",
       "      <th>456</th>\n",
       "      <td>10880.469600</td>\n",
       "      <td>10622.43</td>\n",
       "    </tr>\n",
       "    <tr>\n",
       "      <th>457</th>\n",
       "      <td>2033.046503</td>\n",
       "      <td>1471.47</td>\n",
       "    </tr>\n",
       "  </tbody>\n",
       "</table>\n",
       "<p>458 rows × 2 columns</p>\n",
       "</div>"
      ],
      "text/plain": [
       "     Predicted Price  Actual Price\n",
       "0        3364.780055       3245.97\n",
       "1        2801.744400       2869.23\n",
       "2        1191.346975        797.16\n",
       "3        7226.928800       6934.20\n",
       "4        4465.429150       4365.27\n",
       "..               ...           ...\n",
       "453      6094.464740       7589.40\n",
       "454      4366.896625       3985.80\n",
       "455      1390.443600       1228.50\n",
       "456     10880.469600      10622.43\n",
       "457      2033.046503       1471.47\n",
       "\n",
       "[458 rows x 2 columns]"
      ]
     },
     "execution_count": 64,
     "metadata": {},
     "output_type": "execute_result"
    }
   ],
   "source": [
    "test_df = pd.DataFrame({\n",
    "    \"Predicted Price\" : rf.predict(X_val),\n",
    "    \"Actual Price\" : y_val,\n",
    "}).reset_index(drop = True)\n",
    "test_df"
   ]
  },
  {
   "cell_type": "markdown",
   "metadata": {},
   "source": [
    "##### Hyperparameter tuning didn't improve the model accuracy"
   ]
  }
 ],
 "metadata": {
  "kernelspec": {
   "display_name": "Python 3",
   "language": "python",
   "name": "python3"
  },
  "language_info": {
   "codemirror_mode": {
    "name": "ipython",
    "version": 3
   },
   "file_extension": ".py",
   "mimetype": "text/x-python",
   "name": "python",
   "nbconvert_exporter": "python",
   "pygments_lexer": "ipython3",
   "version": "3.11.6"
  }
 },
 "nbformat": 4,
 "nbformat_minor": 2
}
