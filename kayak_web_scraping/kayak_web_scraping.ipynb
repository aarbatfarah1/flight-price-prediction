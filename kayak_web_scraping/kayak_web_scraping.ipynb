{
 "cells": [
  {
   "cell_type": "code",
   "execution_count": 128,
   "id": "f4ab6a76",
   "metadata": {},
   "outputs": [],
   "source": [
    "import requests as rq\n",
    "from bs4 import BeautifulSoup\n",
    "import pandas as pd"
   ]
  },
  {
   "cell_type": "code",
   "execution_count": 129,
   "id": "8ed55785",
   "metadata": {},
   "outputs": [],
   "source": [
    "from selenium import webdriver\n",
    "from selenium.webdriver.common.keys import Keys\n",
    "from selenium.webdriver.common.by import By"
   ]
  },
  {
   "cell_type": "code",
   "execution_count": 130,
   "id": "90096aff",
   "metadata": {},
   "outputs": [],
   "source": [
    "driver = webdriver.Edge()"
   ]
  },
  {
   "cell_type": "code",
   "execution_count": 131,
   "id": "716846e1",
   "metadata": {},
   "outputs": [],
   "source": [
    "source='CMN'\n",
    "destination='PAR'\n",
    "date='2023-12-20'\n",
    "kayak=f\"https://www.kayak.ae/flights/{source}-{destination}/{date}/2023-12-27?sort=bestflight_a\"\n",
    "driver.get(kayak)\n",
    "soup = BeautifulSoup(driver.page_source, 'html.parser')"
   ]
  },
  {
   "cell_type": "code",
   "execution_count": 132,
   "id": "19e14aae",
   "metadata": {},
   "outputs": [
    {
     "data": {
      "text/plain": [
       "['Royal Air Maroc',\n",
       " 'Transavia France',\n",
       " 'Air France',\n",
       " 'Air France',\n",
       " 'Air France',\n",
       " 'Air France',\n",
       " 'Air France',\n",
       " 'Air France',\n",
       " 'Air France',\n",
       " 'Air France',\n",
       " 'Royal Air Maroc',\n",
       " 'Royal Air Maroc',\n",
       " 'Royal Air Maroc',\n",
       " 'Royal Air Maroc',\n",
       " 'Royal Air Maroc',\n",
       " 'Air France']"
      ]
     },
     "execution_count": 132,
     "metadata": {},
     "output_type": "execute_result"
    }
   ],
   "source": [
    "all_flights=soup.find_all('div',class_='nrc6-content-section')\n",
    "#get airlines\n",
    "airlines=[]\n",
    "for flight_det in all_flights :\n",
    "        item=flight_det.find_all('li',class_='hJSA-item')\n",
    "        img=item[0].find('img',class_='')\n",
    "        alt_text = img.get('alt', '')\n",
    "        airlines.append(alt_text)\n",
    "\n",
    "airlines"
   ]
  },
  {
   "cell_type": "code",
   "execution_count": 133,
   "id": "82fead7a",
   "metadata": {},
   "outputs": [],
   "source": [
    "#getduration\n",
    "durations=[]\n",
    "for flight_det in all_flights :\n",
    "    duration_div=flight_det.find('div',class_='xdW8 xdW8-mod-full-airport')\n",
    "    duration=duration_div.find('div',class_='vmXl vmXl-mod-variant-default').text\n",
    "    durations.append(duration)"
   ]
  },
  {
   "cell_type": "code",
   "execution_count": 134,
   "id": "4f0f5cd6",
   "metadata": {},
   "outputs": [
    {
     "name": "stdout",
     "output_type": "stream",
     "text": [
      "<div class=\"vmXl vmXl-mod-variant-default\"><span class=\"JWEO-stops-text\">direct</span></div>\n",
      "<div class=\"vmXl vmXl-mod-variant-default\"><span class=\"JWEO-stops-text\">direct</span></div>\n",
      "<div class=\"vmXl vmXl-mod-variant-default\"><span class=\"JWEO-stops-text\">direct</span></div>\n",
      "<div class=\"vmXl vmXl-mod-variant-default\"><span class=\"JWEO-stops-text\">direct</span></div>\n",
      "<div class=\"vmXl vmXl-mod-variant-default\"><span class=\"JWEO-stops-text\">direct</span></div>\n",
      "<div class=\"vmXl vmXl-mod-variant-default\"><span class=\"JWEO-stops-text\">direct</span></div>\n",
      "<div class=\"vmXl vmXl-mod-variant-default\"><span class=\"JWEO-stops-text\">direct</span></div>\n",
      "<div class=\"vmXl vmXl-mod-variant-default\"><span class=\"JWEO-stops-text\">direct</span></div>\n",
      "<div class=\"vmXl vmXl-mod-variant-default\"><span class=\"JWEO-stops-text\">direct</span></div>\n",
      "<div class=\"vmXl vmXl-mod-variant-default\"><span class=\"JWEO-stops-text\">direct</span></div>\n",
      "<div class=\"vmXl vmXl-mod-variant-default\"><span class=\"JWEO-stops-text\">direct</span></div>\n",
      "<div class=\"vmXl vmXl-mod-variant-default\"><span class=\"JWEO-stops-text\">direct</span></div>\n",
      "<div class=\"vmXl vmXl-mod-variant-default\"><span class=\"JWEO-stops-text\">direct</span></div>\n",
      "<div class=\"vmXl vmXl-mod-variant-default\"><span class=\"JWEO-stops-text\">direct</span></div>\n",
      "<div class=\"vmXl vmXl-mod-variant-default\"><span class=\"JWEO-stops-text\">direct</span></div>\n",
      "<div class=\"vmXl vmXl-mod-variant-default\"><span class=\"JWEO-stops-text\">direct</span></div>\n"
     ]
    },
    {
     "data": {
      "text/plain": [
       "['direct',\n",
       " 'direct',\n",
       " 'direct',\n",
       " 'direct',\n",
       " 'direct',\n",
       " 'direct',\n",
       " 'direct',\n",
       " 'direct',\n",
       " 'direct',\n",
       " 'direct',\n",
       " 'direct',\n",
       " 'direct',\n",
       " 'direct',\n",
       " 'direct',\n",
       " 'direct',\n",
       " 'direct']"
      ]
     },
     "execution_count": 134,
     "metadata": {},
     "output_type": "execute_result"
    }
   ],
   "source": [
    "stops=[]\n",
    "\n",
    "for flight_det in all_flights :\n",
    "    stop_div=flight_det.find('div',class_='vmXl vmXl-mod-variant-default')\n",
    "    print(stop_div)\n",
    "    stop=flight_det.find('span',class_='JWEO-stops-text').text\n",
    "    stops.append(stop)\n",
    "stops"
   ]
  },
  {
   "cell_type": "code",
   "execution_count": null,
   "id": "5226fd2c",
   "metadata": {},
   "outputs": [],
   "source": []
  }
 ],
 "metadata": {
  "kernelspec": {
   "display_name": "Python 3 (ipykernel)",
   "language": "python",
   "name": "python3"
  },
  "language_info": {
   "codemirror_mode": {
    "name": "ipython",
    "version": 3
   },
   "file_extension": ".py",
   "mimetype": "text/x-python",
   "name": "python",
   "nbconvert_exporter": "python",
   "pygments_lexer": "ipython3",
   "version": "3.11.3"
  }
 },
 "nbformat": 4,
 "nbformat_minor": 5
}
